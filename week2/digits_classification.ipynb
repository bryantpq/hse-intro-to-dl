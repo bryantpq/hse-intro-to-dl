{
 "cells": [
  {
   "cell_type": "markdown",
   "metadata": {
    "slideshow": {
     "slide_type": "slide"
    }
   },
   "source": [
    "# MNIST digits classification with TensorFlow"
   ]
  },
  {
   "cell_type": "markdown",
   "metadata": {},
   "source": [
    "<img src=\"images/mnist_sample.png\" style=\"width:30%\">"
   ]
  },
  {
   "cell_type": "code",
   "execution_count": null,
   "metadata": {
    "collapsed": true
   },
   "outputs": [],
   "source": [
    "import numpy as np\n",
    "from sklearn.metrics import accuracy_score\n",
    "from matplotlib import pyplot as plt\n",
    "%matplotlib inline\n",
    "import tensorflow as tf\n",
    "print(\"We're using TF\", tf.__version__)"
   ]
  },
  {
   "cell_type": "code",
   "execution_count": 2,
   "metadata": {},
   "outputs": [
    {
     "name": "stderr",
     "output_type": "stream",
     "text": [
      "Using TensorFlow backend.\n"
     ]
    }
   ],
   "source": [
    "import sys\n",
    "sys.path.append(\"../..\")\n",
    "import grading\n",
    "\n",
    "import matplotlib_utils\n",
    "from importlib import reload\n",
    "reload(matplotlib_utils)\n",
    "\n",
    "import grading_utils\n",
    "reload(grading_utils)\n",
    "\n",
    "import keras_utils\n",
    "from keras_utils import reset_tf_session"
   ]
  },
  {
   "cell_type": "markdown",
   "metadata": {},
   "source": [
    "# Fill in your Coursera token and email\n",
    "To successfully submit your answers to our grader, please fill in your Coursera submission token and email"
   ]
  },
  {
   "cell_type": "code",
   "execution_count": 3,
   "metadata": {
    "collapsed": true
   },
   "outputs": [],
   "source": [
    "grader = grading.Grader(assignment_key=\"XtD7ho3TEeiHQBLWejjYAA\", \n",
    "                        all_parts=[\"9XaAS\", \"vmogZ\", \"RMv95\", \"i8bgs\", \"rE763\"])"
   ]
  },
  {
   "cell_type": "code",
   "execution_count": 18,
   "metadata": {
    "collapsed": true
   },
   "outputs": [],
   "source": [
    "# token expires every 30 min\n",
    "COURSERA_TOKEN = \"qqLzgD946YKsEjN7\"\n",
    "COURSERA_EMAIL = \"bryanquah@gmail.com\""
   ]
  },
  {
   "cell_type": "markdown",
   "metadata": {},
   "source": [
    "# Look at the data\n",
    "\n",
    "In this task we have 50000 28x28 images of digits from 0 to 9.\n",
    "We will train a classifier on this data."
   ]
  },
  {
   "cell_type": "code",
   "execution_count": 5,
   "metadata": {
    "collapsed": true
   },
   "outputs": [],
   "source": [
    "import preprocessed_mnist\n",
    "X_train, y_train, X_val, y_val, X_test, y_test = preprocessed_mnist.load_dataset_from_file()"
   ]
  },
  {
   "cell_type": "code",
   "execution_count": 6,
   "metadata": {},
   "outputs": [
    {
     "name": "stdout",
     "output_type": "stream",
     "text": [
      "X_train [shape (50000, 28, 28)] sample patch:\n",
      " [[ 0.          0.29803922  0.96470588  0.98823529  0.43921569]\n",
      " [ 0.          0.33333333  0.98823529  0.90196078  0.09803922]\n",
      " [ 0.          0.33333333  0.98823529  0.8745098   0.        ]\n",
      " [ 0.          0.33333333  0.98823529  0.56862745  0.        ]\n",
      " [ 0.          0.3372549   0.99215686  0.88235294  0.        ]]\n",
      "A closeup of a sample patch:\n"
     ]
    },
    {
     "data": {
      "image/png": "[encoded data removed]",
      "text/plain": [
       "<matplotlib.figure.Figure at 0x7f5af2575eb8>"
      ]
     },
     "metadata": {},
     "output_type": "display_data"
    },
    {
     "name": "stdout",
     "output_type": "stream",
     "text": [
      "And the whole sample:\n"
     ]
    },
    {
     "data": {
      "image/png": "[encoded data removed]",
      "text/plain": [
       "<matplotlib.figure.Figure at 0x7f5af24eee10>"
      ]
     },
     "metadata": {},
     "output_type": "display_data"
    },
    {
     "name": "stdout",
     "output_type": "stream",
     "text": [
      "y_train [shape (50000,)] 10 samples:\n",
      " [5 0 4 1 9 2 1 3 1 4]\n"
     ]
    }
   ],
   "source": [
    "# X contains rgb values divided by 255\n",
    "print(\"X_train [shape %s] sample patch:\\n\" % (str(X_train.shape)), X_train[1, 15:20, 5:10])\n",
    "print(\"A closeup of a sample patch:\")\n",
    "plt.imshow(X_train[1, 15:20, 5:10], cmap=\"Greys\")\n",
    "plt.show()\n",
    "print(\"And the whole sample:\")\n",
    "plt.imshow(X_train[1], cmap=\"Greys\")\n",
    "plt.show()\n",
    "print(\"y_train [shape %s] 10 samples:\\n\" % (str(y_train.shape)), y_train[:10])"
   ]
  },
  {
   "cell_type": "markdown",
   "metadata": {},
   "source": [
    "# Linear model\n",
    "\n",
    "Your task is to train a linear classifier $\\vec{x} \\rightarrow y$ with SGD using TensorFlow.\n",
    "\n",
    "You will need to calculate a logit (a linear transformation) $z_k$ for each class: \n",
    "$$z_k = \\vec{x} \\cdot \\vec{w_k} + b_k \\quad k = 0..9$$\n",
    "\n",
    "And transform logits $z_k$ to valid probabilities $p_k$ with softmax: \n",
    "$$p_k = \\frac{e^{z_k}}{\\sum_{i=0}^{9}{e^{z_i}}} \\quad k = 0..9$$\n",
    "\n",
    "We will use a cross-entropy loss to train our multi-class classifier:\n",
    "$$\\text{cross-entropy}(y, p) = -\\sum_{k=0}^{9}{\\log(p_k)[y = k]}$$ \n",
    "\n",
    "where \n",
    "$$\n",
    "[x]=\\begin{cases}\n",
    "       1, \\quad \\text{if $x$ is true} \\\\\n",
    "       0, \\quad \\text{otherwise}\n",
    "    \\end{cases}\n",
    "$$\n",
    "\n",
    "Cross-entropy minimization pushes $p_k$ close to 1 when $y = k$, which is what we want.\n",
    "\n",
    "Here's the plan:\n",
    "* Flatten the images (28x28 -> 784) with `X_train.reshape((X_train.shape[0], -1))` to simplify our linear model implementation\n",
    "* Use a matrix placeholder for flattened `X_train`\n",
    "* Convert `y_train` to one-hot encoded vectors that are needed for cross-entropy\n",
    "* Use a shared variable `W` for all weights (a column $\\vec{w_k}$ per class) and `b` for all biases.\n",
    "* Aim for ~0.93 validation accuracy"
   ]
  },
  {
   "cell_type": "code",
   "execution_count": 7,
   "metadata": {},
   "outputs": [
    {
     "name": "stdout",
     "output_type": "stream",
     "text": [
      "(50000, 28, 28)\n",
      "(50000, 784)\n",
      "(10000, 784)\n"
     ]
    }
   ],
   "source": [
    "print(X_train.shape)\n",
    "\n",
    "X_train_flat = X_train.reshape((X_train.shape[0], -1))\n",
    "print(X_train_flat.shape)\n",
    "\n",
    "X_val_flat = X_val.reshape((X_val.shape[0], -1))\n",
    "print(X_val_flat.shape)"
   ]
  },
  {
   "cell_type": "code",
   "execution_count": 8,
   "metadata": {},
   "outputs": [
    {
     "name": "stdout",
     "output_type": "stream",
     "text": [
      "(50000,)\n",
      "(50000, 10)\n",
      "[[ 0.  0.  0.  0.  0.  1.  0.  0.  0.  0.]\n",
      " [ 1.  0.  0.  0.  0.  0.  0.  0.  0.  0.]\n",
      " [ 0.  0.  0.  0.  1.  0.  0.  0.  0.  0.]] [5 0 4]\n"
     ]
    }
   ],
   "source": [
    "import keras\n",
    "\n",
    "y_train_oh = keras.utils.to_categorical(y_train, 10)\n",
    "y_val_oh = keras.utils.to_categorical(y_val, 10)\n",
    "\n",
    "print(y_train.shape)\n",
    "print(y_train_oh.shape)\n",
    "print(y_train_oh[:3], y_train[:3])"
   ]
  },
  {
   "cell_type": "code",
   "execution_count": 9,
   "metadata": {
    "collapsed": true
   },
   "outputs": [],
   "source": [
    "# run this again if you remake your graph\n",
    "s = reset_tf_session()"
   ]
  },
  {
   "cell_type": "code",
   "execution_count": 10,
   "metadata": {
    "collapsed": true
   },
   "outputs": [],
   "source": [
    "# Model parameters: W and b\n",
    "W = tf.get_variable('W', shape=(784, 10), dtype=tf.float32) # tf.get_variable(...) with shape[0] = 784\n",
    "b = tf.get_variable('b', shape=(10), dtype=tf.float32) # tf.get_variable(...)"
   ]
  },
  {
   "cell_type": "code",
   "execution_count": 11,
   "metadata": {
    "collapsed": true
   },
   "outputs": [],
   "source": [
    "# Placeholders for the input data\n",
    "input_X = tf.placeholder(tf.float32, shape=(None, 784)) # tf.placeholder(...) for flat X with shape[0] = None for any batch size\n",
    "input_y = tf.placeholder(tf.float32, shape=(None, 10)) # tf.placeholder(...) for one-hot encoded true labels"
   ]
  },
  {
   "cell_type": "code",
   "execution_count": 12,
   "metadata": {
    "collapsed": true
   },
   "outputs": [],
   "source": [
    "# Compute predictions\n",
    "logits = input_X @ W + b # logits for input_X, resulting shape should be [input_X.shape[0], 10]\n",
    "probas = tf.nn.softmax(logits) # apply tf.nn.softmax to logits\n",
    "classes = tf.argmax(probas, axis=1) # apply tf.argmax to find a class index with highest probability\n",
    "\n",
    "# Loss should be a scalar number: average loss over all the objects with tf.reduce_mean().\n",
    "# Use tf.nn.softmax_cross_entropy_with_logits on top of one-hot encoded input_y and logits.\n",
    "# It is identical to calculating cross-entropy on top of probas, but is more numerically friendly (read the docs).\n",
    "loss = tf.reduce_mean(tf.nn.softmax_cross_entropy_with_logits(labels=input_y, logits=logits)) # cross-entropy loss\n",
    "\n",
    "# Use a default tf.train.AdamOptimizer to get an SGD step\n",
    "optimizer = tf.train.AdamOptimizer()\n",
    "step = optimizer.minimize(loss) # optimizer step that minimizes the loss"
   ]
  },
  {
   "cell_type": "code",
   "execution_count": 32,
   "metadata": {
    "scrolled": false
   },
   "outputs": [
    {
     "data": {
      "text/html": [
       "<img src=\"data:image/jpeg;base64,/9j/4AAQSkZJRgABAQAAAQABAAD/2wBDAAIBAQEBAQIBAQECAgICAgQDAgICAgUEBAMEBgUGBgYFBgYGBwkIBgcJBwYGCAsICQoKCgoKBggLDAsKDAkKCgr/2wBDAQICAgICAgUDAwUKBwYHCgoKCgoKCgoKCgoKCgoKCgoKCgoKCgoKCgoKCgoKCgoKCgoKCgoKCgoKCgoKCgoKCgr/wAARCAEgA2ADASIAAhEBAxEB/8QAHwAAAQUBAQEBAQEAAAAAAAAAAAECAwQFBgcICQoL/8QAtRAAAgEDAwIEAwUFBAQAAAF9AQIDAAQRBRIhMUEGE1FhByJxFDKBkaEII0KxwRVS0fAkM2JyggkKFhcYGRolJicoKSo0NTY3ODk6Q0RFRkdISUpTVFVWV1hZWmNkZWZnaGlqc3R1dnd4eXqDhIWGh4iJipKTlJWWl5iZmqKjpKWmp6ipqrKztLW2t7i5usLDxMXGx8jJytLT1NXW19jZ2uHi4%2BTl5ufo6erx8vP09fb3%2BPn6/8QAHwEAAwEBAQEBAQEBAQAAAAAAAAECAwQFBgcICQoL/8QAtREAAgECBAQDBAcFBAQAAQJ3AAECAxEEBSExBhJBUQdhcRMiMoEIFEKRobHBCSMzUvAVYnLRChYkNOEl8RcYGRomJygpKjU2Nzg5OkNERUZHSElKU1RVVldYWVpjZGVmZ2hpanN0dXZ3eHl6goOEhYaHiImKkpOUlZaXmJmaoqOkpaanqKmqsrO0tba3uLm6wsPExcbHyMnK0tPU1dbX2Nna4uPk5ebn6Onq8vP09fb3%2BPn6/9oADAMBAAIRAxEAPwD9/KKKKACiiigAooooAKKKKACiiigAooooAKKKKACiiigAooooAKKKKACiiigAooooAKKKKACiiigAooooAKKKKACiiigAooooAKKKKACiiigAooooAKKKKACiiigAooooAKKKKACiiigAooooAKKKKACiiigAooooAKKKKACiiigAooooAKKKKACiiigAooooAKKKKACiiigAooooAKKKKACiiigAooooAKKKKACiiigAooooAKKKKACiiigAooooAKKKKACiiigAooooAKKKKACiiigAooooAKKKKACiiigAooooAKKKKACiiigAooooAKKKKACiiigAooooAKKKKACiiigAooooAKKKKACvPfjt%2B1J8FP2b5NGsfil4g1Maj4ilnTQNB8OeF9R1zVNR8lVed4bHTbee5kjiVkMkixlI96biu5c%2BhV4N%2B0P8D/j5/wANJ%2BDv2tv2bLLwfrWueH/B2seFNX8KeOdcutLtLywv7mwuxcQXtraXj288U2noCpt3WVJSCUKK1ABpf/BTL9izWLvxPb2nxXv0h8FWsk/jLUrvwXrEFjoIS0iu9l5dy2iwWsrQzRskMjrJIWKorMrKL2n/APBQ/wDZK1HwBrXxFTx/q9vB4f1ay0vVdE1DwNrNrrkV5ebfscC6PNaLqEr3AYGER27eaAxTcFYjy2b9gH4y%2BMf2a/jn8NfGHinwppHin4o/FS38daHc6U1xeWFpeW0OiywQ3IkihkkiN3pRRwoyYHGDuJVaPi79i/8AaV%2BLmr/Ef45fG34S/CjWvFnjWx8KaPp/gKy%2BI2s2Wm6fY6Hcaldw3qa7b6al5DqDXOqTOksVoPJSKNFZiWcgHsviH9vv9mzwv4a8OeI9XvvG3meK0v5NE8P2vwm8SXGuSRWUscV3NJpMWntf28MLzQq8s0CIpmiy37xM%2Bmaz8RPBHhv4e3XxX8T%2BJbbSvDljo76rf6vqrfZYbSySIzPPMZdvlKsYLNvxtAOcYNfGHin9hH9s/WPgX4X8Nay3hfxV470a58RHRfGV/wDHbxNpGr%2BCLW%2BuUktLO11q1sJLzXIYkjhEy3qw/aTbReYCFGPUfjR/wTotfj1%2Bzb4n%2BHHxD%2BOfjW78d%2BMPhfH4Z17xS3jbWho818tpDE2oJoS3y2FuzzQLK3kRRSEPIBIrSM5AOkg/4KUfsZf8K58V/FbWPite6Jo3giysr7xQ/ifwdq%2Bk3NlZXkxhtb37LeWsVxJaSyK6pcxxtC3luQ%2BEYjj/AI3f8FZP2d/hn8ENU%2BMfgPRfFXiqbQfiD4X8L674Y/4QXXbHU7A6zqVrax3T2cmnNdeV5Fw88DeT5d48aW8MhknjB8r1T/gmJ8ZPHfwq8faR4i8DeG9G8Y%2BI9D0fR7DxDqv7RfjPxut3aWusW%2BoTRyf27AfsEZ8likUSzHe%2BGkxknv8A9qH9gz40/GD4g/F/4g%2BBfEPheOTxfB8LbzwlZ6tfXMSvf%2BE/EdzrUsN40dvJ5ENwGt4VljEzrl2MfyKrgHqFh/wUE/Zb1H4m2XwZh8T%2BJo/Fd5oun6xLoF38N9egudO0%2B9adILu/SSyU6dDut5VeS68pYiFEhQum6j4a/wCCmH7FPi3wZ4s%2BIWkfGC4TR/Bfgi68Zaxe6h4S1W0Fx4et0Z5tWsVntUbVLNVQ4nsxPGxZArEugbB0P9kP4ofEP4mfG74g/G9fD2gxfGj4O%2BHfCF1Y%2BE9duNRl0u4tE11Ltlnns7XzYwNViMT7FZikm6OPA3fN37Y37Kn7UOj/ALDHxS%2BJv7TF34AtIfhD%2BxT8QfBHhePwFqF5cNrzXukWxn1G6W5toBYqE0i3CWcbXAVppCZ22oKAPrPw9/wUl/Yy8TaHrHiPT/i1dQWehppU1/JqnhLVbJmtNSu1s7HUIUuLVGubCWdgovoQ9qoDO0qorMPT9E%2BLvw88R/FLX/gvofiH7T4k8LaXp%2Boa/YR2k22zgvmuBa7pinlF3%2ByzHy1cyKoRmVVkjLfJOofsz%2BIPFegeKfjb/wAFIvF/wz8J%2BBbf9nu5%2BHUlx4f8QTLay6beyQyXmq3k17BbpYOTBbCG2QzCAmT/AEiQsuOw/wCCPngP4u2f7I9r8f8A9pDUDf8AxJ%2BL15H4n8V6g9nJbtJCLSCy01fKl%2BeH/iX2lpI0TYKSzTZAYtkA%2BqqKKKACiiigAooooAKKKKACiiigAooooAKKKKACiiigAooooAKKKKACiiigAooooAKKKKACiiigAooooAKKKKACiiigAooooAK8R0j/AIKMfse6ld69Z6n8Urzw83hzw5c%2BINQk8a%2BEdV0GObSbd0jnv7WTUrWBb63R5IlaW2MqAyxjOXXPtN7FczWcsNndCCZ4mWKYx7/LYjhtp64POO9fmJq//BHL9uX4v6t4X1z43fHHQ31vw14P1Cz1DxRqHxW8TeJx4h1v7ZpV9a6idLvoobLSbaS50xfPsLIBRHJtWWQKgUA%2B2X/b/wD2YbX4aN8WNY8QeKtK0ttcg0axs9c%2BGWv2GqanfzIZIYLLTbixS9v2kQM6/Z4ZAyo7AkIxHReA/wBqz4H/ABH1%2By8J%2BHPEOqQ6vf8AhSfxJDpGteFdS0y7TTYbv7JLLLDeW8UkDrP8hhkVZe%2BzbzXk3xO%2BDn7bvxib4e/G3XPBvwq0P4h/Cjx1NrHh/wAM2vjjUr/Rdcs7jSbvTLmO4vn0qGaxmKXskkbpa3AjMQU%2BYJGxV%2BJPwG/bg1/4y%2BHf2mvA%2BjfCu08WX3ww1XwX4x0LUvFepSWGkLcX8N1a39lcJpwk1AxCN1kt5YrQSlxiWLHIB3Gk/wDBRv8AZA8R694F8LeFfiNqus6n8SfBuleLfBunaJ4H1m9nvND1F9lrqMiQWjNa2%2B7HmSTiNbcMpm8oMCdj4a/tufs3fFf4jXPwn8M%2BL9Ws9ft9LudThsvE/gzVtEW/sbeRI57uyl1G1gjv4I3liDy2zSIvmISQGUnyj9hT9hL4sfsw6/8ADjWfHniDw1dnwd%2Byl4R%2BGN%2B%2BkXM8rNq2lvM1zNF5kEe61bemxmKu235o0wK8a%2BGn/BKv9sbxP8UfC/ib9qb4w2eqRaf4A8V%2BF/GniaD4v%2BJNavPEUur2KW39p2umX0Men6EcqWNpaKUXKgTOI1WgD6l8J/8ABRf9kfxrosfirQfHeuf2Hcarpen6f4lvfh/rdrpWoy6lex2VlJaX09mlteQS3M0UYuIJHhBlQs4VgT6X4W%2BLvw88a/EDxT8LvC/iH7XrnguSzj8T2iWkwWxkuoPtEEZlZBG7tCVkKIzMiyRlgokTd8w%2BOPAnxF8K/wDBPbxp8CP%2BChnif4VeCPAWg/DSLQLb4meHfFt2GadI0trXUntLqzgTTZlmFvJDBHcXTGcoiOTtDdr/AMEr/h98WPDf7ImlfFX9oqwS3%2BJ3xYvpfHXxEhW3aL7Pf36xmG02N8yfZbGOys9pyQLXBoA%2BjaKKKACiiigAooooAKKKKACiiigAooooAKKKKACiiigAooooAKKKKACiiigAooooAKKKKACiiigAooooAKKKKACiiigAooooAKKKKACvF/j14/8A2i/%2BGi/AvwI%2BAvjPwV4fTX/BXiXXtX1Pxf4Lu9aJOnXeh28MMMdvqVj5Yb%2B1JWZmZ8%2BWgAXkn2ivCviNrkdj/wAFK/hBokqj/T/gp8QzG3ffHq3g04/75LH8KTaW5cISqO0V0b%2B5Xf4F/wD4Qf8A4KF/9HQfBn/ww%2Brf/NRR/wAIP/wUL/6Og%2BDP/hh9W/8Amor2aimQeM/8IP8A8FC/%2BjoPgz/4YfVv/moo/wCEH/4KF/8AR0HwZ/8ADD6t/wDNRXs1FAHjP/CD/wDBQv8A6Og%2BDP8A4YfVv/moo/4Qf/goX/0dB8Gf/DD6t/8ANRXs1FAHjP8Awg//AAUL/wCjoPgz/wCGH1b/AOaij/hB/wDgoX/0dB8Gf/DD6t/81FezUUAeM/8ACD/8FC/%2BjoPgz/4YfVv/AJqKP%2BEH/wCChf8A0dB8Gf8Aww%2Brf/NRXs1FAHjP/CD/APBQv/o6D4M/%2BGH1b/5qKP8AhB/%2BChf/AEdB8Gf/AAw%2Brf8AzUV7NRQB4z/wg/8AwUL/AOjoPgz/AOGH1b/5qKP%2BEH/4KF/9HQfBn/ww%2Brf/ADUV7NRQB4z/AMIP/wAFC/8Ao6D4M/8Ahh9W/wDmoo/4Qf8A4KF/9HQfBn/ww%2Brf/NRXqPjMb9DEDE7Jr60ilAONyPcxqy/QqSD7GvMdf/ag/wCCfvhTXb3wt4p/aI%2BDmm6npt3Ja6jp2oeLtKhntZ42KSRSRvKGR1YFWVgCCCCMisqtehQSdSajfu0vzaO7A5XmeaTlDBYepVcVdqnCdRpbXahCbSvpdpK%2Bl76DP%2BEH/wCChf8A0dB8Gf8Aww%2Brf/NRR/wg/wDwUL/6Og%2BDP/hh9W/%2Baiq//DX/APwTg/6Oi%2BCP/hbaP/8AHat6B%2B1B/wAE/fFeu2Xhbwt%2B0R8HNS1PUruO107TtP8AFulTT3U8jBI4o40lLO7MQqqoJJIAGTWSx2BbsqsP/A4//JHoT4V4ppwc55fiEkm23QrpJLVtt0Ekkk222kkm20k2M/4Qf/goX/0dB8Gf/DD6t/8ANRR/wg//AAUL/wCjoPgz/wCGH1b/AOaitH9qv4l/Cr9lD9m/xr%2B0l4p%2BFy6tp/grw9cardabpGiCa4uViXOxFjjYjJxlyNqLl3KqrMOf0n9rP9j/AFzxvL8NdL8Na/L4htvDi69qGi/8Ka11brT7B47t4pbqNtPDWrS/YblYo5gkkzxiONXd0Vuo8Ev/APCD/wDBQv8A6Og%2BDP8A4YfVv/moo/4Qf/goX/0dB8Gf/DD6t/8ANRVLTP2nP2YPE0nh3/hFdMsEOs%2BOpvCt7YeJfCWo6PqNjfR6NdauYWsrmwEySm1t1mVbhbeN4ZPMWVmMUczfgp%2B1/wDsL/tBaNN4j%2BG3ibS/7Oi8P6frqX/iLwjd6LBc6XfMy2t7BJqNtAtzbyOpQSxF1D4QkMQKAL//AAg//BQv/o6D4M/%2BGH1b/wCaij/hB/8AgoX/ANHQfBn/AMMPq3/zUVB%2B2h8Srr9l74IXfxp8C/s7%2BGfF8WkXcLa7ZajrK6V9nsWba88TrZ3PnShigWIqgbccyIBmu%2B%2BJF18G/hL4B1j4m%2BPdF0mx0bQtOlvdSujpaOUijUsdqqpZ2OMKigszEKoJIFAHEf8ACD/8FC/%2BjoPgz/4YfVv/AJqKP%2BEH/wCChf8A0dB8Gf8Aww%2Brf/NRXg2r/wDBSfw/4d/Z08KfGnx5%2BzJ4E8B3/iPx74o8Majb/Ez4gQaRomgzaLe39qyXmrJYTqtzObE%2BXAsLKzs6CVhGHftPE37cHgLSYfgda6R%2By60mq/FtPD934h0XVRDZ3Hgmw1bbHA94BDJvuDcM0KW/yeZ9lu2Dr9nIYA9F/wCEH/4KF/8AR0HwZ/8ADD6t/wDNRR/wg/8AwUL/AOjoPgz/AOGH1b/5qK8t8Nft9fCn/hM3f4n/AAV8MeG/BeoXfjS28M6%2BmtR3epXMnheeePUzd6cLRPsilLW5ljKTzttjUSrC8ipWx8FP2xPhx8QvgP4n/aH8cfDb4cWukaJHbfY9H8CeN7bxLqpurjAi0q8gitIY7TU2kkt4FtY5bgNNOEWQ4DMAd1/wg/8AwUL/AOjoPgz/AOGH1b/5qKP%2BEH/4KF/9HQfBn/ww%2Brf/ADUV4x49/wCCiPhf4e/sBaf%2B19q37J2l3Hi/UbHV7iP4ZWWtwyBF0qS5/tGRr/7IAIIYbWRzMYMNJJBCBvmjzt/En9uTwH8P/wBtCz/ZGX4FeELi4uNe0fS0guvEsVv4h1Bb%2BHzTqWnaQbNvt2m2w3C4uvtEflfZrr5G8kBwD0z/AIQf/goX/wBHQfBn/wAMPq3/AM1FH/CD/wDBQv8A6Og%2BDP8A4YfVv/morw22/wCCmPw10rwTffErx/8As2aBp%2Bj6j8M/EXjnwBBpniGC71DVNO0e7t7a5jv4HtYU0ycteWx2iW4RB54kdGhKt2cH7VMkPg/4iweKPg58GPDvi/4V6vYReNLfxF8U/svhyzsL2zjuoLw6u2kb0JWQJ5ctpH86n5ihR3AO/wD%2BEH/4KF/9HQfBn/ww%2Brf/ADUUf8IP/wAFC/8Ao6D4M/8Ahh9W/wDmorxef/gov8N9W8LfDOTwt8HfhrpfiD4ieHJNbWz%2BJXxAg8PaZDbi6FrAtremxne/ku5N72ipbqJoImlYxZRH3NR/bk8BWP7co/Y0j%2BBfhB5x4ph0QxP4liTxHKkmjjU/7Yh0Y2f7zR0ybZr37SMTRyp5ZKYYA9M/4Qf/AIKF/wDR0HwZ/wDDD6t/81FH/CD/APBQv/o6D4M/%2BGH1b/5qK8x8X/tha98HLX4g6b8dv2PPDFjr3gv4cQ%2BM7TTvCHisavBNYy3U1sEvZpNOtmsWR4Wd2WOePyo53R5PJZa5mw/4KZ/CS6%2BDaeP5vhp8JFvr74kz%2BEND1yP4nWx8E6l5GmJqU%2BpR%2BIXsFzZxoXtXdbVmF7E1uFbHmAA90/4Qf/goX/0dB8Gf/DD6t/8ANRVDwP44/as8HftWeHPgj8bviP8AD3xNo3ib4e%2BIdchm8K/Dy%2B0W6tLrTb7RLdFZ7jV75JY3TVJSVCIwaJCGxkHt9FttJ174MW3j6bwr4astTuvDq34l8L3631pFKYfMDWt4IYTcRZwUl8uPeuDtXOK5fxx/ykL%2BF/8A2Rnx5/6dvCFAHs1FFFABRXmH7afxe8VfAP8AZM%2BIfxj8DR2p1vw/4UvLrR3voi9vDdCMiKWVQQWiRyruuRlVYZGcjzf4e%2BP/ANqDwpa/Hz4IaV46m%2BJ/jL4faHbah8PdZ8T2FhZz6hd3ulSSwWF2LCG2tyFvIGw6xxnybiNWJZDI4B9L0V8Yfsx/HL4ufF3xH8TfgT4z/aL%2BLGh23hLwL4V8Vf8ACxPF3w90nw/rdhLfS6vHf2YtbzSltjZxnSQUme1dj5s4WaRUSSuU0L4if8FBNR/Za%2BD3xtv/AImfF/WND17TfEXijxzq3gjw94MXxBZ6NcSJdaDDPbajZxwO0NhIFmW1g895UfCHIQAH31Xzj8JvFX7d/wAddH17x34X%2BN/wk0DS7f4heKtD0vSr/wCD%2BqX9xFa6Xr1/pkLS3CeIoFlkeOzV2ZYo13OQFAAr2Sz%2BLfgiT4OWXxr0vU9T1vw9d6Fb6pZX2jaFdahdX1rNGkkcsdpaQvNKzq6tsjiLc/dGOPIP2HPEGn%2BMf2Ur3xDpkF/DZ6v8afHEiQ6lptxY3Ihm8eatlJbe4SOaByjENHIiupJVlBBFAHR/8IP/AMFC/wDo6D4M/wDhh9W/%2Baij/hB/%2BChf/R0HwZ/8MPq3/wA1FP1/9qD/AIJ%2B%2BFNdvfC3in9oj4Oabqem3clrqOnah4u0qGe1njYpJFJG8oZHVgVZWAIIIIyKqf8ADX//AATg/wCjovgj/wCFto//AMdrleOwKdnVh/4HH/5I96HCvFNSCnDL8Q00mmqFdpp6ppqg0000002mmmm00yx/wg//AAUL/wCjoPgz/wCGH1b/AOaij/hB/wDgoX/0dB8Gf/DD6t/81FP0D9qD/gn74r12y8LeFv2iPg5qWp6ldx2unadp/i3Spp7qeRgkcUcaSlndmIVVUEkkADJq9%2B1X8S/hV%2Byh%2Bzf41/aS8U/C5dW0/wAFeHrjVbrTdI0QTXFysS52IscbEZOMuRtRcu5VVZhrSr0K6bpzUrdmn%2BTZ5%2BOyvM8rnGGNw9Sk5K6VSE6ba2ulOEG1fS6TV9L30M7/AIQf/goX/wBHQfBn/wAMPq3/AM1FH/CD/wDBQv8A6Og%2BDP8A4YfVv/moqhpP7Wf7H%2BueN5fhrpfhrX5fENt4cXXtQ0X/AIU1rq3Wn2Dx3bxS3UbaeGtWl%2Bw3KxRzBJJnjEcau7orO0z9pz9mDxNJ4d/4RXTLBDrPjqbwre2HiXwlqOj6jY30ejXWrmFrK5sBMkptbdZlW4W3jeGTzFlZjFHNqcJd/wCEH/4KF/8AR0HwZ/8ADD6t/wDNRR/wg/8AwUL/AOjoPgz/AOGH1b/5qKofBT9r/wDYX/aC0abxH8NvE2l/2dF4f0/XUv8AxF4Ru9FgudLvmZbW9gk1G2gW5t5HUoJYi6h8ISGIFXf2jfiI3wr1/wAH/DT4QfADw14u8Z%2BNr28TStL1rVV0ixgtbO1a4ubme6SzunQD9zEqrC5aS4jzsQO6gDv%2BEH/4KF/9HQfBn/ww%2Brf/ADUUf8IP/wAFC/8Ao6D4M/8Ahh9W/wDmorntf/ak%2BFsH7Fvhr9r/AMJ/BSyvB4vHh230bw7qhgs/Iv8AWL%2B00%2BCC7uRHItvHFc3iLNKqybVjkKLIdqtzOpftY6x/wz747%2BMeg/s7fCs6h8ItZ1rTvixp%2Br/EKa30/SW061S8le0vYNFna7Bt5YnIkgt2QsUYblIoA9H/AOEH/wCChf8A0dB8Gf8Aww%2Brf/NRR/wg/wDwUL/6Og%2BDP/hh9W/%2BaivK9B/bOvNQ/aH8Bfs3eLf2efhN4P8AEXif4a%2BGPFWu6R4y%2BKK2WpW82qXF/Dc6bplqNKc6tPafYJCx324cyxgiMEsOt174w/FTw1%2B1vof7Nl/%2ByX8OrzTvEmia/rWma1pPjuWW%2Bg0/Thbok11Zy6PHFCZri8s4dq3T7TJIwMgibIB0/wDwg/8AwUL/AOjoPgz/AOGH1b/5qKP%2BEH/4KF/9HQfBn/ww%2Brf/ADUVS/Z/%2BJ%2BpfET4s%2BM/gP8AGb9nfwj4Y8UeDtF0XV7j/hF/EA1vT5rTU3v0hTz5bGzeO5RtOmMkJiwElgdXcSYX17wYNmhmBSdkN9dxRAnO1EuZFVfoFAA9hQB5d/wg/wDwUL/6Og%2BDP/hh9W/%2Baij/AIQf/goX/wBHQfBn/wAMPq3/AM1FezUUAeM/8IP/AMFC/wDo6D4M/wDhh9W/%2Baij/hB/%2BChf/R0HwZ/8MPq3/wA1FezUUAeM/wDCD/8ABQv/AKOg%2BDP/AIYfVv8A5qKP%2BEH/AOChf/R0HwZ/8MPq3/zUV7NRQB4z/wAIP/wUL/6Og%2BDP/hh9W/8Amoo/4Qf/AIKF/wDR0HwZ/wDDD6t/81FezUUAeM/8IP8A8FC/%2BjoPgz/4YfVv/moo/wCEH/4KF/8AR0HwZ/8ADD6t/wDNRXs1FAHjP/CD/wDBQv8A6Og%2BDP8A4YfVv/moo/4Qf/goX/0dB8Gf/DD6t/8ANRXs1FAHjP8Awg//AAUL/wCjoPgz/wCGH1b/AOaij/hB/wDgoX/0dB8Gf/DD6t/81FezUUAeM/8ACD/8FC/%2BjoPgz/4YfVv/AJqKP%2BEH/wCChf8A0dB8Gf8Aww%2Brf/NRXs1FAHjP/CD/APBQv/o6D4M/%2BGH1b/5qKP8AhB/%2BChf/AEdB8Gf/AAw%2Brf8AzUV7NRQB4z/wg/8AwUL/AOjoPgz/AOGH1b/5qKP%2BEH/4KF/9HQfBn/ww%2Brf/ADUV7BqGo6fpVm%2BoapfQ21vEuZZ7iUIiD1LHgV5Z43/bz/Yo%2BHDSQ%2BNP2r/h9ZTRf6y0Piy1knH/AGyR2f8ASsa2Iw%2BHV6s1FebS/No9HL8nzfN6nJgMNUrPtTpzm/8AySE7fOxS/wCEH/4KF/8AR0HwZ/8ADD6t/wDNRR/wg/8AwUL/AOjoPgz/AOGH1b/5qK861j/gtP8A8E8bW9bSPCnxf1LxVfr/AMuHhXwhqV27fRhAEP4NVX/h6nq/if5PhF/wTu/aH8Qhv9VeXfgRdOs5PTE00v8ANa4HnmUXtGspP%2B7eX/pMZH10fCzxE5VKrltSkn1rclBev7%2BrR09Ez0//AIQf/goX/wBHQfBn/wAMPq3/AM1FW/2VviN8afGGsfFDwJ8dNf8AC%2Brap4B%2BIUWh2eq%2BE/DVzpNvdWsug6Pqas9vcXt4yyLJqMqFhLtKxodqnOfJv%2BGv/wDgpt4q48Df8EqG0%2BF/uX3ir4uabBj/AHoEQuPzrof%2BCdesfGTX9b%2BPOr/tA%2BDtJ8P%2BLpvjNAdW0fQ9QN1a2wHhHw2IgkpALkwiNm9GZgOBW%2BGzCji6jjTjLa93CUV98kjyM74RzPh/Cqvi6tB3fLy08TQrTWjd3CjOo0lazbejaXU%2Bk6KKK7j5cKKKKACiiigAooooAKKKKACiiigAooooAKKKKACiiigAooooAKKzfGXi3RPAXhTUfGviSS5Ww0uzkubw2VhNdzeWiknZDAjyytgcJGrMxwACSBXNfCT9ov4RfG7w9rHiXwL4gvI4fDt81n4itPEWg3ujXulTiCO42XVpqEME9vmGWKUGSNQ0ciupKkGgDt6%2BVv2j9d/sj/grd%2By7p%2B/H9qfDj4m2uM9cHw3Nj/yD%2BlezfAP9qn4G/tOWt/dfBrxXeX/9mw2s9zDqXh6%2B0yZra6RntbuOK9ghea1nWOQxXMYaGXy32O2xsfNH7dGsHQP%2BCwn7E1%2BXwkum/Em0cdj51jo6KP8Avog/hXJjp%2Bzw/N5x/wDS4r9T6DhfC/Xc3VHvTr/esPXkvxifbVFFFdZ8%2BFFFFABRRRQAUUUUAFFFFABRRRQAUUUUAZfjD/kEw/8AYVsf/SuKuF1/9ib9jLxXrt74p8U/sj/DHUtT1K7kutR1HUPAOnTT3U8jF5JZJHhLO7MSzMxJJJJOTXdeMP8AkEw/9hWx/wDSuKvnbx//AMFlP%2BCbnwv8d638NPHX7R32HW/Dur3OmaxZf8IhrEv2e6t5Wilj3x2jI%2B10YblYqcZBI5rhx1bLaMIvGSgk3pz8tr%2BXMnrbsVHiSpw3%2B9hjXhufS6qypc1tbXjUp3tvZt23t1PRP%2BGB/wBhX/oyz4S/%2BG50z/4xVvQP2Jv2MvCmu2Xinwt%2ByP8ADHTdT027jutO1HT/AADp0M9rPGweOWORIQyOrAMrKQQQCDkV4z/w/N/4JZf9HRf%2BWTrn/wAhVr%2BAf%2BCyn/BNz4oeO9F%2BGngX9o77drfiLV7bTNHsv%2BEQ1iL7RdXEqxRR75LRUTc7qNzMFGckgc158Mbww5pRnRvdWt7O9%2BltN72sV/xE3E1/3TzycubS31uq730tb6w73va1ne9rO9n7L%2B018E7L9pP9nTx3%2Bz3qGvy6TD438I6hob6rBAJXs/tVu8ImCEgOULhtpIDbcZGc15f4i/Ym%2BIXj/Qfi7L49%2BPtrF4k%2BLfw703wzfa14T8KzabDpslmNRC3MUUl9PIyOL8BojMDiJsSDzBs9c%2BOvxh8Ofs%2B/B7xH8b/GWmajdaN4V0qXU9ZTSoUknis4hunmCu6BljjDysM52xttDNhT5f8AGf8A4KIfB34LaX4u1zVPDep6hY%2BCvFtn4b1jUR4g0HSrR7%2B402LUQkNxq%2BpWcMmyCeAMA%2B/fMFRX2SFPeMzzr4I/8EpovhF4ih8TQ/EnwhYbfi4PHL6D4C%2BF8egaRAw8I3nhw2dtapeSmEN9qF20rPIzOjKR84dPQvgb%2BxR4h%2BAUfgS78I/Fyyub/wADfA3Svh1by6h4Xdobv7HJAxvmjS7Vl3rCwEIc7C4PmNt2tylr/wAFHdJ8U%2BPo7/wTcWlx4C1zwZ8JNd8I6rFoUk95df8ACYeINW00rMj3cKxxiKzsyrAF4GkmdkucLBVjwb/wUaPxM/aK8H%2BCPCHwf8TWXgHxH4K8Wa/aeLNU0JZ28Qw6TcadDHPpcdlczTmN/tUreVPbpPMGgaFCCcgHpH7bfwA%2BJn7UP7PWrfA34Y/FTQvB0%2BuyRxanrGveEJtaT7IpLtHFDFf2ZSUyLERI0jqFV18slwyX/H37Ps/x8%2BHEPwu/aW1%2By1zTHttLur//AIRBNU8OTtrNndLdLe29xbak09tEJord44VkZ42iJaaUMAsP7YHxB%2BL/AMOP2WvGPxb%2BAmoeHbTxB4c8M3etWreMtDury0aK2t3neN7eG4tpd7Km0fvE2k5IONp37f4w%2BH/DnwBg%2BPHxR1W10rTbbwnHreu3ao3lW0f2YTSlV%2BZiBzhRuY8AZJoA%2BfPAn/BMXxB8DdE0aT4CftGXEOuaJ498Y%2BILe5%2BI1hqfiqxlg8QXU0z27291qqTCaCNooxcpcKZW%2B1SyRs95NmCX/gjh8ALbwf8ADnRfD/xB8dafq3gW48Kfb9YtPHmt2seuQaHFHFCkljZ38FpDIyJhZUizFuO0HJrnrT/god%2B0ynw38Qa38TtB8B/De7tfj7F4PuPEPijT7mfTPBGiXHhq21u3uNZVbyIS3IkuItOd0uLeAXF1EQdq/Pv%2BGP26fjj8Svgp8Fvj/wDD648E/wBieKPivJ4I8d2914fvnkv5ItbuNHe70x/tcf2ONpLSedVnS4bZJGh5DOQDqNd/4JxeDfiV8fvEfxl%2BMQ8DXNpq%2Blazp9rZ%2BDvhymjalcR6jbNZyTapqJup5NSnis5JoImCQIouJWMbEp5eX8P/APgl54XuGef9o/4jv4olsvD/AIZ0Pw2/gGHUfBZ0600I35sZmk07UTPJd51GfdIksUOFQRwRYO7svi18Zv2gvhR%2B1B4B8F/8JB4I1nwv8QvFEmlad4Os/Dl5Hr9pZQ6bLcXOqvffbWheGGaNFdDaRqFuYV87zHRZPnnwn/wVp%2BKlzoHiY6lH8P8AWvFafBfxN46tfA2lwXFhdeCL3SLmyhfQ9cmnu5FluT/aEZLKloc2k2I9ssT0Adbrf/BFD4F67%2ByRe/s53fxV8djxA3hnxHouleOU%2BIHiNWtYNWunuZI5rRdVC3kKv5BaCZ2jlaDcwBdq7fxB/wAE9dc1L4p3Gq6T8dPL8Eal478K%2BLtU0LWNCn1LXP7Q0CHT47SKDWp70vHbSHTLZpllgnlkM14fOBunI8t0j/gpN8crnwTN/wAJF4v8BeHIovi7H4Vvfin42%2BG%2BseHtN0Wxfw9/aq3Oo6DqN/Fe2DSXO2xia5uoI5jNFMhIeKOXtPBn7cXxw%2BKHw%2B/Z5%2BN/gyPwfbeGviR40fwv430y90G9e7a6RdQjeewmNzELaITae5CzwzOUkUHYwJoA6fwh%2BwI2hfHDxf8AtE6nqHwyTxNrHhvWdH0BvDnwiXTbbGoywyy3Wsp9ukk1u4za2qFvMtlKCdVVDOxU%2BB37EPxE/Zo8G%2BIZfgP8Qfhj4c8X%2BKvENve6xc6d8HXtvDkFjBbGCKxs9ItdVhe3AYtOZWu5GaWaYn5XRI5fir%2B0r8cPhR%2B2b4K%2BDBm0jXfDnji8uo7fSIvh1qmnz6fBFpV5dCQa/Ndtpt9ctcWYT%2Bz44o7nyrjzceXA7t4T4C/4KpfH3x18MPFMXhKPwP4u%2BIY%2BDsHjbRvDPg7wdqt3J4Yv/tcNtd%2BHtTtEu3uL2%2BtmuYdyRfZZmKuGt4d0e4A9B8R/8Ep7ib4dWfhHwV8btLs9V1D4eeIfBXjfWtb8BJqC6jpWtX76hdLYwLdxLpzRTyzC3VjcQxxOiPFN5aEdTa/8E%2BvEFl8ZYfE0Pxzhl8ExfEmw8df2DeeFml1saraaVDp0UQ1c3eBaFIEZozamUq0kXnCNto5bx/8AtpfHjT/gj4F8XfCv4g6D4mvtS%2BK114c%2BIviPTf2c/FNyfCtlFoupXv8ApPhyG/Op20/2m30%2BFnmlCql8rmMB0NM%2BJ/8AwUeTSPiZ4U%2BG/g746%2BBbLS2%2BGGi%2BNvEvxEuvh1rGs6VqVjqV1c20EsC2N2qaRaFrG5ke9vLiSKAS26HzCzMADQ8H/wDBO/46y/CL4k/Dv41/tSeGPEut/Ei8i1LVPG%2Bk/DC40/UJtQhuY5rZLlZtXuop9PhjiS2WwRIU8jepfdLI73x/wT08eya9/wALuu/jd4Xm%2BLEfxTbxva%2BIG%2BHEv9gwXDeH18Pvbrpf9pedsayUOZPtvmmcK%2B/yx5Fc9Y/8FAfjhJ%2B2/P8AAG48N6AdCHjjVvD0WmTeGNQtWENpoMupxXieIpLg6ZdXMssaRtpUcQuoIpXmf5LaUnz/AOFv/BTf9r34m/BHxf4s8P8AgzQ9S8Saf4U8F65pltZ/CHxDFJYf2xqrWt/CmmNdtdeIba1t0eaPUrB47a5KsI921sAH1t8HfgZp/wCzX%2ByjZfA/Tdfk1RNA8OXMUmoSWywCeVxJLIyRISsMfmSNsiUkRptQEhc1k%2BOP%2BUhfwv8A%2ByM%2BPP8A07eEKv8AwW%2BKp%2BMf7NF54xuviXo3iq%2BW31O01PUdE8IXvh9IrmF5Y3tpdNv7ie6sp4sBJIpn37lLbUDBRQ8cf8pC/hf/ANkZ8ef%2BnbwhQB7NRRRQBmeNPBvhX4i%2BDtW%2BH3jrQLXVdE13TZ9P1jS72IPDeWs0bRywyKeGR0ZlI7gmuJ%2BF37JfwS%2BDenXem%2BANP8RQf2jPPNqt3f8AjvWL661GWW3htjJc3F1dSTXLJBbwxRNK7GBIwIvLFek0UAeWaP8AsYfs86N8LvGXwf8A%2BEY1nUNI%2BIWnzWPjS513xpq2panq1tJbm2aGXUrq6kvdghZkQCYCMM2zbk51PjL%2BzJ8JPj1oth4a%2BIVv4iTTNPtZrWLTfDfjjVtEtp7eVUSSC4i026gS6iKxqvlzB0A3AAB2z39FAFbRdG0jw5o9p4e8P6Xb2NhYW0dvY2VpCI4reFFCpGiqAFVVAAA4AAFeHfsf/wDJvWr/APZe/HP/AKsDVa96rwX9j/8A5N61f/svfjn/ANWBqtAHWa/%2BxN%2Bxl4r1298U%2BKf2R/hjqWp6ldyXWo6jqHgHTpp7qeRi8kskjwlndmJZmYkkkknJqp/wwP8AsK/9GWfCX/w3Omf/ABivO/H/APwWU/4JufC/x3rfw08dftHfYdb8O6vc6ZrFl/wiGsS/Z7q3laKWPfHaMj7XRhuVipxkEjmsj/h%2Bb/wSy/6Oi/8ALJ1z/wCQq8GeN4YU2pTo3u739ne/W%2Bm973NP%2BIm4mh%2B6WeTjy6W%2Bt1Va2lrfWFa1rWsrWtZWsvZtA/Ym/Yy8Ka7ZeKfC37I/wx03U9Nu47rTtR0/wDp0M9rPGweOWORIQyOrAMrKQQQCDkVrftNfBOy/aT/Z08d/s96hr8ukw%2BN/COoaG%2BqwQCV7P7VbvCJghIDlC4baSA23GRnNeNeAf%2BCyn/BNz4oeO9F%2BGngX9o77drfiLV7bTNHsv%2BEQ1iL7RdXEqxRR75LRUTc7qNzMFGckgc17j8dfjD4c/Z9%2BD3iP43%2BMtM1G60bwrpUup6ymlQpJPFZxDdPMFd0DLHGHlYZztjbaGbCn0MDWy2tCTwcoNJ68nLa/nypa27ky4kqcSfvZ414nk0u6sqvLfW15VKlr72TV97dTyPxF%2BxN8QvH%2Bg/F2Xx78fbWLxJ8W/h3pvhm%2B1rwn4Vm02HTZLMaiFuYopL6eRkcX4DRGYHETYkHmDZw3wR/4JTRfCLxFD4mh%2BJPhCw2/FweOX0HwF8L49A0iBh4RvPDhs7a1S8lMIb7ULtpWeRmdGUj5w6ei/Gf/AIKIfB34LaX4u1zVPDep6hY%2BCvFtn4b1jUR4g0HSrR7%2B402LUQkNxq%2BpWcMmyCeAMA%2B/fMFRX2SFORtf%2BCjuk%2BKfH0d/4JuLS48Ba54M%2BEmu%2BEdVi0KSe8uv%2BEw8QatppWZHu4VjjEVnZlWALwNJM7Jc4WCu4k6v4G/sUeIfgFH4Eu/CPxcsrm/8DfA3Svh1by6h4Xdobv7HJAxvmjS7Vl3rCwEIc7C4PmNt2t1n7RvwC8cfFTxB4P8AiZ8H/ifp3hHxn4Jvbx9K1TWvDT6vYz2t5atb3NtPapdWruD%2B5lVlmQrJbx53oXRvMPBv/BRo/Ez9orwf4I8IfB/xNZeAfEfgrxZr9p4s1TQlnbxDDpNxp0Mc%2Blx2VzNOY3%2B1St5U9uk8waBoUIJz6T%2B1J8aPiB8PdG8C%2BFvg4mkQ%2BKPiT43t/Duhah4n0ue4stNzZXmoT3M9rHNbyzbbWwuAsQliJkZAWUZoAp%2BHf2WNY8Bfsu2v7K3gzxT4X1DQ9M8D2GhWP/Cd%2BCW1iO8nj3C7udQgW8gju47hNuYEEOxzI291dUTjPDv/AATg8O6F%2BzFf/s3W/jDSLG38V/ECx8SfEB/Dvg6PTtP1OCG7s5JdKtLGOcrY2klpY29hgvMywBixkkYvWhpX7XXxTf8AYJ8a/tHv8O7LWPHHgX/hK9MvtE0eG4FnqGp6HqV9pss0MYMk628slkZxEDJKsb7Mu4yfGW/4KwarY%2BEtb8H6Z8TPh/418Sx/ErRPCvh34heCfCOpXnh%2B8TUtNm1ATpp1reXVzeTQrZX8Atra5czTxwoHhZ5FiAPob9p79mr4o/tJ3Nv4JuPi54c0j4fy3%2Bk3utaSPAslxrc01jfper9m1I36xWoZ4ogCbOV4/nZHDMrJu6b8AdV0z9oDxz%2B0WnjmCfWvEnhHTfD3hmC60gtDoFraNdzHIEwNwZrq7eWTBiLJDBHn92Hr5h%2BP/wDwU78e/B74caR470n4t/C%2B5sIPhxrfiWXX9Z8HanYQ%2BNdT067aCXw1plpJf%2Bdp2or5bpLHM13PHKcfZm8uQL7ppHx8%2BMN3%2B2z4Q%2BFsl54Yn%2BHHj/4Q674r0CGLQ7mLWrK50678Ow4nuWumhkilXWpT5a26MhgT942SKAJf2I/2Y/jB%2BzH4X1vRvi/8afDXj3VNf1L%2B1dX8U6Z4EuNH1LVtScFZ7u%2Bkl1O8SYlFgiijiSCO3igSKNfLVET1zwf/AMgmb/sK33/pXLWpWX4P/wCQTN/2Fb7/ANK5aANSiiigAooooAKKKKACiiuB%2BJn7Vf7MnwZd4fiz%2B0H4L8OzR5za6x4ltYJiR2EbuHY%2BwBNZ1KtKjHmqSUV3bSX4tHRh8JisXNwoU5Ta1tGMpO3d8qdl5uy8zvqK%2BRPiL/wXP/4JqfD7zIbf45z%2BIbmPra%2BHPD93Pu%2BkrxpEfweuZj/4LCfFf4mQQan%2By7/wTC%2BMvjHTrgfuNV1uyGkWsp9UmVLiNh77h9K8ufEGTRlyxrKT7QvN/dBSOXGTpZfUVPEzjGb%2BzzRcvnGEqkkvNxivnofcNFfBPiP9qv8A4LreN1b/AIVX/wAE4fB/hmGTgTeJ/GFrdyRj1wLy3OfqhHtXnvif4Pf8HGnxt36d4i%2BMHhbwTZTA5h0XV7SyMZP/AE2tbeacY9nrmq8QxWlHC1pvypuK%2B%2BbX5HVgqmQ4jWvjfZryw%2BKqS%2BSjRgm/%2B30vM/SvxB4k8O%2BE9Lk1zxTr1lpllCMzXmoXSQxIPd3IA/E14N8SP%2BCsH/BOv4V3Eln4m/av8MXM8Zw0Ph%2BSXVW3f3f9CSUZzxjt3r4p0X/ghr%2B2t4p1CDxP8ePjL8MvFetxnJ1PxRea/rsmT1JW4ljjf6GPFe6/Dj/gmB%2B2B4Tt49J079tfwh4D01B%2B8tvhX8D9J0y4k9f9K4kQ/wC1yTnmuX%2B1OI6/8PB8n%2BK0n/6XGK%2B9nurMfDfAr%2BBmONl/dp4bB0//AAKtWxNW3/cNPurnY/8AD3b4eeLv3XwD/ZM%2BOfxDL/6m80H4dyxWZ9C81wybFPqVpJP2rf8AgqJ48jaT4cf8E29K8LWhGY9W%2BIfxNtQAPV7a2XzUx9aVP%2BCQvw31v/S/il%2B1z8ffF15JzPcat8TZkRvZUiRQi%2Bi849afH/wRK/4J83siy%2BNPh74l8TFTkDX/AB7qsoz64S4QGj2PFFb45W9JU4/iqdR/iP8A10y3Df8AIv4WoX6PFY3EV3840o0Kfys0cJ4z%2BLP/AAURhjaX4zf8FCP2XfhDEc5Gjqb2aEe/9pSqrN9OM15B41%2BOP7Pom%2Bx/H7/gvr8RfEc8jbTafCPRRphmb%2B6h06CdRn64r7P8G/8ABLD/AIJ2%2BBJFl0P9kHwVMyfdOsaZ/aP/AKVGSvX/AAX8Kfhd8N4fs/w7%2BG2gaBHjHl6Lo8FquPTESrR/YuZVv4s1851p/gpUo/gL/iJPiHH/AHGjl%2BCX/TnB05SXpOrCpL/yY/LjT/C3/BNnxXeR6q37EX7W/wAdblW3W%2Bra1pGq3kTn%2B%2BWNzAuD7oR7V6r4G8U/Cj4fqk3w/wD%2BDf3xZbBP9Rd3fgvSjdY93m3SA/Vq/RGitqPDqovmjOKflRp/nLnl97PPzDjLxUzenyY3iHESj/LF8kF5KEZxil5cqXkfH%2BkftrftlyWa6L8FP%2BCQHi2BF4WHXvF%2Bl6FAh9RuVgR9Ktj40/8ABY3Vx5mn/sU/C3Rw/Kxat8R3uGT2YwJgn6V9a0V3rLcS172KqfJU4r8IM%2BRllmYVpOVbHVZN9vZx/KEn97Z8lf2n/wAFwfEXy2fhj9mrw7GfvNf3ut3cq/7vlYUn610X/BOuw%2BNmma38ebL9orXtA1PxknxmgOs3vhe1lhsJM%2BEfDZiESS/OAITGpz1ZWPevpOvGf2X/APkt/wC0d/2Wax/9QrwvXThsF9Xm5urOb296V193Klc6MJl31So5utUm7W9%2Bd18koxV/M9mooortPRCiiigAooooAKKKKACiiigAooooAKKKKACiiigAooooAKKKKAMH4peJPGPg74ba94r%2BHnw5ufGGvadpFxcaL4Vs9Rt7OXVrpIyYrVZ7l0hhMjhV8yRgq5yemK%2BZ/gl8GvjZ8QP2Zvib4E%2BM3wg8YeGPiN8aLPVh438Ua3daI1na31xpKWcH2aPT9TunjsbeJIbaFeZW8hpZRvleRvraigD5t/Y3%2BH3xzufjHrPxv%2BM3wUuPh9t%2BFXhXwZbaFd6xYXkl5dabPqlxdXcbWM8yC03X8ccHmFJiElZ4osqD82/8FL9D8SfD7/grF%2Bx1441f4u%2BINbs9Z8Y67bafoeq22nJaaIJrjQoWjtWtrSKd1fzBu%2B0Szn5F2lfm3fpJX5y/8Ftf%2BJb%2B1r%2Byr426f8I1r%2Boanv8A7u3XfCsef/IleXnUnDK6kl05X904P9GfeeGNKNfjvBUZfbdWHznh8VFfjKJ%2BjVFFFeofBhRRRQAUUUUAFFFFABRRRQAUUUUAFFFFAGV4w/5BMP8A2FLH/wBK4q1ahv7C01O0exvoBJFIMMpJHfIORyCDggjkEVQ/4Q/Sf%2BfvVP8AweXf/wAdoA1aKy/%2BEP0n/n71X/weXf8A8do/4Q/Sf%2BfvVf8AweXf/wAdoAs69oWj%2BKNDvfDPiLTYrzT9RtJLW%2Bs7hN0c8MilHjYd1ZSQR6GvnXwT/wAEwfhR8NPhH4D%2BGHw8%2BNXxH0rUPh9rep6ppfjldT0%2B51u8lv0miuhdSXNlJBJuim8pXWFJY0hiEbptJP0D/wAIfpP/AD96r/4PLv8A%2BO0f8IfpP/P3qv8A4PLv/wCO0AeDeBv%2BCYnwD%2BH/AIa8PeFdE8W%2BMJLbw14a%2BHmh2DXepWzyPbeDdVu9U0tpG%2BzjdJLPeSrcNwHRUEYhYF2tfDb/AIJ3eBfhT8RNL%2BIHhL46/ERV8L%2BG9d0LwHoVxeabJYeFrPVZraaZLRDY75TE9pB5JunuNipsO5Plr2//AIQ/Sf8An71X/wAHl3/8do/4Q/Sf%2BfvVf/B5d/8Ax2gDm/2gPgm37QHwO134G3nxS8SeGbfxHpT6bqeveG49PN%2B1tIhjnRftlpcQL5kZZGPk5AclCjAMM7wx%2BzToNn8JNK%2BB/wAUfG%2BqfEfw1Y%2BHrjR9V0zx5o2j3MOvQvLE0LXsUFhDE7QRxGGNY0jjZJHMyTSBJE7X/hD9J/5%2B9V/8Hl3/APHaP%2BEP0n/n71X/AMHl3/8AHaAPGfhx/wAE7/gh8ANK8c2P7Jt/dfB%2B58f%2BK7bXNW1H4d%2BHdCtntjBZQWiWcEVxp00AtdsLy7JInZZbm4dXXzMCD4hf8E%2BPC3i34WeA/hD4F/aE%2BIngTTPAOvDXba48MnRrm51fVRc/axfXsmqabeGSY3LTTsYxGsj3MpkVxsCe2/8ACH6T/wA/eq/%2BDy7/APjtH/CH6T/z96r/AODy7/8AjtAHlelfsanR/wBqzVf2tLX9pX4hPqmsWNlp934cuoNCm01LC2jwLKFpNMN3bQSSl7iRYbhC8zlicKirR8VfsD%2BA/ia3iu5%2BNnxe8c%2BNrvxJ4auvD%2BnX%2BtXWn20vhrTri4iuZIdP%2BwWduqMZ7e0kMs4mlY2VvvdgmD7F/wAIfpP/AD96r/4PLv8A%2BO0f8IfpP/P3qv8A4PLv/wCO0AeT%2BH/2NNS8K6J4ik8P/tY/E228XeLNbttQ8RfEMRaA%2Bq3iW9qLWG08p9KNhFAsYBAjtUffly5ZmJzPH/8AwT68L%2BJvBHw0%2BHfw8/aC%2BIfw/wBK%2BFmoJqOgw%2BFv7GuXvL5I5Ixd3cmq6bePNKRNcMxDKJHnd3DttK%2B1/wDCH6T/AM/eq/8Ag8u//jtH/CH6T/z96r/4PLv/AOO0Aefa/wDssQeMvjPo/wAWfHnxy8b65p/hzXm1vw34FvW0yPSNNv8A7NLbLMrQWMd5NsSeYqk9zLGGk3bcpHso%2BHf2QrrQtS8ReNL39pr4i6r4z1zSINJsvHWpJohv9DsIp2nW2s4Y9NSyVWkYmRpreWSXCCR2EcYT0/8A4Q/Sf%2BfvVf8AweXf/wAdo/4Q/Sf%2BfvVf/B5d/wDx2gDynQv2Nr/wf4S1bSPAv7VfxM0XX/EviqTxB4v8cWqaDNqeu3bWcFkonS40uSziRLa0tIkW3t4dq2yc8uW5zxT/AMExvgNr3gTTvhf4f8Y%2BMfDnh5Ph7D4G8UaZo2o2r/8ACWeHY2lYWGoy3VtNMQTcXeZbd4Jj9tn/AHnzjHvP/CH6T/z96r/4PLv/AOO0f8IfpP8Az96r/wCDy7/%2BO0AeMXH/AATx%2BEepfEafxbrvjzxhqHh2XxVqfiaH4c3V7af2Lb6xqFncWl5eIUtlvCZI7y7bynuWhWS4d1jVghVvw2/YGsPhXpt43hn9qL4nvrp8Lab4a8P%2BLL6TRJr7w/o1lOZo7K1VtM%2BzSK5JWSW6huJ5FAzJlVYe0/8ACH6T/wA/eq/%2BDy7/APjtH/CH6T/z96r/AODy7/8AjtAHD/Dz4EeHP2fvg34l8N6N4l1nXb3WLjUtZ8QeIvEM0L3uq6hcKTJcS%2BRFFChwqIqRRRxokaKqACsXxx/ykL%2BF/wD2Rnx5/wCnbwhXqJ8GaG%2BFna%2BmTIJiuNWuZEb2ZWkKsPYgivLvHH/KQv4X/wDZGfHn/p28IUAezUUUUAc78XPil4N%2BB/wt8RfGP4h372uheFtFudU1aeKFpZFt4ImkfYi5aRyFIVFBZmIABJFcH4I/bN%2BHuvfDzx/4%2B%2BIvgzxL8PpfhdayXfjrQPGFvam90y0WxW/W5/0C4uYZontyWVopXO5JI2CyRug3v2q/grdftGfs3eNvgdp2vR6VeeJ/Dl1Y6dqc0JljtLpkJgmdAQXRZQjMgILKCMjOa89%2BEfwM%2BPUvij4kfEX9oDwD8Pbm9%2BJ9nDYat4a0vxPd32nWlhZ2H2e3t2kn06FrwXEs940xaOIRRyRoqzlWYgEWqf8ABRfwb4f8Ba34l8T/ALPnxH0zxDouoeE7YfD69i0caxex%2BJNVTSdIuYiuom0WGa7MqHzbmN4/ss%2B9FKgNufFD9tO3%2BEugeHH8R/s3fEa58U%2BItK1XVv8AhX%2BlR6Pc6vp%2BmaaYhe3s5TUfsjRx/abQbYbiWV2u4USNnLKvjXwx/wCCdviPwdofxH8V%2BL/2b/hj4ovvHOneGNFj%2BFnjD4nax4h0Iadot1d3VvJPqmq6bPcSSLPes8cAs/JhW0t0TB3SU/wl%2BxB%2B1f8ABjw74S8Y/B65%2BHkvirR9I8caJ/wieq69fw6FoGl%2BINSs9Qt7exuFs5Zpk05tPtoo4WggSWN5FX7MqxIgB9d%2BDPGHhr4h%2BD9J8f8AgzV4tQ0fXNMg1DSb%2BHOy5tpo1kilXPOGRlYexrxb9j//AJN61f8A7L145/8AVgarXd/DT9njwx8Pv2YfC/7Lba7rE2keGvBeneHE1HTNYutMvZYbS2it1kS4s5Y5oHIiB3RyKRkjNcL/AME9/B%2BiaL%2BzHqPgiE3tzYWXxa%2BIVrC2qapcXty6R%2BNNaCtJc3DvNNJwCZZHaRm%2BYsTzQB71RWV/wh%2Bk/wDP3qn/AIPLv/47S/8ACH6T/wA/eq/%2BDy7/APjtAGpVTXtC0fxRod74Z8RabFeafqNpJa31ncJujnhkUo8bDurKSCPQ1W/4Q/Sf%2BfvVf/B5d/8Ax2j/AIQ/Sf8An71X/wAHl3/8doA%2BfvBP/BMH4UfDT4R%2BA/hh8PPjV8R9K1D4fa3qeqaX45XU9PudbvJb9JoroXUlzZSQSbopvKV1hSWNIYhG6bSTY8Df8ExPgH8P/DXh7wroni3xhJbeGvDXw80Owa71K2eR7bwbqt3qmltI32cbpJZ7yVbhuA6KgjELAu3vP/CH6T/z96r/AODy7/8AjtH/AAh%2Bk/8AP3qv/g8u/wD47QB4h8Nv%2BCd3gX4U/ETS/iB4S%2BOvxEVfC/hvXdC8B6FcXmmyWHhaz1Wa2mmS0Q2O%2BUxPaQeSbp7jYqbDuT5a9I%2BOfwD0T47%2BDdL8Oav4013RNU0DWrXWPD3izQHtV1HTNQgDKtzEJ4Jbdi0ck0TpJC8bxzSKUweOn/4Q/Sf%2BfvVf/B5d/wDx2j/hD9J/5%2B9V/wDB5d//AB2gDi/ht%2BzbYfCL4YQ/Cv4e/FXxVYWqadq63Gok2E15dapqV015ca1I8toym9%2B0y3EwAUWxe5k3QOBGE5M/sGeCbnwrfQav8YPG9/4yv/GFp4nPxRupNM/tyDU7W3FrbyRIlithHGlqHtxALTyik0xZGeWR29g/4Q/Sf%2BfvVf8AweXf/wAdo/4Q/Sf%2BfvVf/B5d/wDx2gDxnU/2BPCWofBq3/Z/h%2BPHxDtPCV3JrEnjnTLW60zd41fVbyW81FtQnawaaLz5p7nd9he0CrcOibVWMJueJv2Sn8RftUeGf2p7b9ojx1pc/hPw/e6HpfgvTbXQxox0%2B8lsJryBxLpr3ZEsmmWTlluVZPJxGY1d1b0r/hD9J/5%2B9V/8Hl3/APHaT/hD9J/5/NU/8Ht3/wDHaANWsrwf/wAgmb/sKX3/AKVy18zftTf8FRf2Av2TZp9E8ZfGLUfEGv27FZPDXg7WrjULtGHVZGE6wwsOPlkkRuehr5kH/BbL9sf9oJv%2BEX/4J8/sA6heWiSmGPWdYtrrUlUEnLuLfyoYWznl53BJ5zXh4ziTJ8HU9lKpzT/lgnOX3RT/ABZpl%2BHx%2Bcymssw9TE8jtJ0oOUIPtOq%2BSjTflOvF%2BXf9SajvLy00%2B1kvr%2B6jghiUtLNM4VUUdSSeAK/MzTP2Xv8Agv5%2B1Gy3vxp/axsPhRpkhz/Z%2Bh3kUF3Cp7KNMTLf8Duciuu8Pf8ABv34D8WTR6j%2B1d%2B2R8T/AIkXSsHkSTUfs0Mjf7Qna5kI%2BjqfesYZxmmJ/wB3wM7d6ko0193vS/A2xGVZthl%2B%2BdCm%2BzxEakl6xw1Osl6e2Z9LfFn/AIKY/sD/AAS82P4gftV%2BEI54ciay0nUf7SuIyOzQ2YldT7FRXg2rf8F%2BP2ZNf1l/DH7O3wP%2BKXxN1EH5E8N%2BF8Rt6fefzhn/AK5V7D8JP%2BCTH/BO74LiOTwr%2Byz4bvriPB%2B1%2BJon1aQsP4v9MaRVPf5QAO2K9/0Hw74f8LaZHovhjQ7PTrOIYitLC1SGJPoqAAflWnsuI6/x1adJdoxlN/fNxX/kpwvCyf8AExT9KdKMV/4FWnOX/ki7rsfFVr%2B3f/wVX%2BL%2BnF/gb/wSmm8OhnxHqXxI8ZR2wUf3ntJFtpfwVjVi7%2BC3/Bcj4vXQufGH7XPwp%2BF1jPCN9h4E8LvqUsWRyCb6IsG90mIz0NfbNFaf2PUqL/aMVVn6SUF90Ip/%2BTHK8D711Xq/%2BBpf%2Bk047dNmfAmpf8EVPjB8V7kj9p7/AIKhfFjxhZSsTcabpxawhIPULHJcXESfhHj2rvfhj/wQt/4JsfDeFDefBS68T3SY/wBN8Ua/czs31ijeOE/9%2B6%2BvqKKfDuS0587oqUu8rzf3zci8Rg6WNpqni5TrRWyqzqVIp91Gc3BPzVO/meb/AA0/Y6/ZP%2BDV5Fqnwr/Zs8D6Dewf6rUNM8L2sdyv/bYJ5h/76r0iiivWpUaNCPLTiorskl%2BSRtRw9DDQ5KMFFdkkl9ySCiiitDUKKKKACiiigAooooAKKKKACiiigArxn9l//kt/7R3/AGWax/8AUK8L17NXjP7L/wDyW/8AaO/7LNY/%2BoV4XoA9mooooAKKKKACiiigAooooAKKKKACiiigAooooAKKKKACiiigAooooAKKKKACvzm/4L3o9knhbxhEpL%2BHfhzr2pIQOQU8WeBkyPwkNfozXwT/AMFsNC/4SLRbrT9m7y/2dvHV1jH/ADw1/wAFTZ/8h15mdxc8nxCW/JL8It/ofc%2BGFeOG8SMmqS2WKoJ%2Bjqxi/wAJtfM%2B9UdJEEkbAqwypB6ilrm/g3rv/CU/CHwr4m37v7R8N2N1uz18y3R8/rXSV6MJKcFJdUn96T/U%2BNxNCWFxNSjLeEpRfrGTi/xiwoooqjAKKKKACiiigAooooAKKKKACiiigAooooAKKKKACiiigAooooAKKKKACiiigAooooAKKKKACiiigAooooAKKKKACvGfHH/KQv4X/wDZGfHn/p28IV7NXjPjj/lIX8L/APsjPjz/ANO3hCgD2aiiigAoqO9vbPTrOXUNQu4oLeCJpJ55pAqRooyzMx4AABJJ6Vz3wz%2BM3wf%2BNXhA/EL4N/Fbw14t0ATSRHXPDOu29/Z%2BZH99POgdk3LkZGcjvQB0tFeeWX7Xf7J%2Bo/DbUPjLp/7T/wAPJ/CGk3wstV8Vw%2BNbBtNs7k7QIZboS%2BVHId6fIzA/OvHIpPFv7X37JngHwhoXxB8d/tQ/DrRdA8Uxu/hnXNW8bWFtZ6uqgFmtZpJQlwAGUkxlsAj1oA9Erxn9g/8A5Ihrn/ZZviP/AOprrdex29xb3lvHd2k6SxSoHiljYMrqRkEEcEEd68c/YP8A%2BSIa5/2Wb4j/APqa63QB7NRRRQAUUUUAFFFFABRXmP7RP7Zn7MH7KGlf2n8ffjNo2gSPHvt9NlnM19cj1itYg00gzxlUIHcivj3xF/wXmuPi34zk%2BEv7BP7HPjL4ieImJRJ9Vj%2BxwQHOPNeKLzHEQPUytBjnJFeVjc7yvAT9nWqrn/lV5SflyxTf5GVKr9ZxEsPhYSrVIrmlCnCVSUV3koKShH%2B9UlTj/eP0Nubm3s7eS7u7hIookLyyyOFVFAySSeAAO9fNfx9/4K7/ALBH7Ps76LqvxttvFGuB9kPh7wLF/at1LJnHl7oT5KPk/dkkQ9uteAv/AME1f%2BCgv7ed1H4g/wCClH7U8nhvw1LIJV%2BFnw5ZVhjXOQksnMO5T0ZvtTc8OK%2Btf2ZP2CP2Sv2QbFI/gR8F9K0u/WIpLr9xH9p1KYEfNuuZd0gB6lFKp6KK5Y4vO8e/3FJUYfzVNZP0pxen/b0vkOphse6fNOpCk/5f4s/%2B3nGUaMPT2lWS622PBT%2B3V/wUs/aHlNt%2ByN/wTlufC%2BlvcqsXi742al/Z6eSw4kOno0cxGOd0TzD2ORVeb/gmT%2B2J%2B0vBv/b7/wCCh3iS%2B065heO88DfCu3TSNNKlshHl2D7Un/XWDd/t96%2B4qK1/sWNf/fK06vk3yw/8Bhyp/OTOL%2BzoVP8AeZyq%2BUrKP/gEOVP0k5LyZ88fBL/glH/wT7%2BAXk3Hgr9mfQLy9hwRqXiWJtVn3j%2BMG7Mixt/uBQOwFfQdpZ2mn2sdjYWscEMSBIoYUCqijoABwB7VJRXpYbCYTBw5KFOMF/dSX5L87ntVsbjMRQp0KlRuFNWhG75YLtCCtCK8owj53eoUUUV0HMFFFFABRRRQAUUUUAFFFFABRRRQAUUUUAFFFFABRRRQAUUUUAFFFFABXjP7L/8AyW/9o7/ss1j/AOoV4Xr2avGf2X/%2BS3/tHf8AZZrH/wBQrwvQB7NRRRQAUUUUAFFFFABRRRQAUUUUAFFFFABRRRQAUUUUAFFFFABRRRQB57%2B1dafAO9/Z38V2/wC1BJ4XXwIdNzr58azwR6XtEimIXDXBEW0zCMAOcFto5zivln4J%2BM/g3%2B0F/wAERvAnw%2B8E/tO%2BA7B7b4C%2BGzrWoXXiqA2NrFZWtkt7bag8Mm6C1ZopLO5bgxrLICNw2190UUAfJ/8AwSfl1K98K/FbVtA8PeCdI%2BH938UN/wANtM%2BGd8134bgshoulpdf2XceRbrPbHUFvWMkcEUbXBuSqkfO3Gf8ABQy0%2BK/jD4o%2BLfDXjXwR4esdFT9lH4qHwrqGleJ57y71DbceF3JubaSyhS0IZY8COa43bjkrtG77jr5w/aq0L/hKf2n/AA/4Z2bv7R/Zw%2BJlrt9fMvfCiY/WufF0/a4SpDvGS%2B%2BMl%2Bp7HD2K%2BocQ4LE/8%2B61GX/gNWlL/wBtZ2/7B2u/8JN%2BxF8INcZ9z3Hwy0MynP8Ay0FhCH/8eBr1ivnT/gknrv8AwkX/AATg%2BEeob93l%2BFxa5/64TSw4/wDIeK%2Bi6xyyp7XLaE%2B8If8ApMT0OOML9R42zTD/AMmJxC%2B6vV/zQUUUV3Hy4UUUUAFFFFABRRRQAUUUUAFFFFABRRRQAUUUUAFFFFABRRRQAUUUUAFFFFABRRRQAUUUUAFFFFABRRRQAUUUUAFeM%2BOP%2BUhfwv8A%2ByM%2BPP8A07eEK9mrxnxx/wApC/hf/wBkZ8ef%2BnbwhQB7NRRRQB5F%2B338PvGnxW/Yo%2BKfw4%2BHmjS6nrOs%2BBtRtbLSIHCvqZaBt1mpYhQZ13QjcQv7zkgZNeQ/Dnw/4f8Aj5qv7Q51bwB8QvC/gX4w6JDo%2BnR3XgLVNJ1C4%2Bz6EtpqF8tvcWyyWshjmgtoTMiNM1gfKWREVj9d0UAfn98JPHfxy%2BBEvxd/a78Q/DXxn8TdPXwZ4J8KeAdB0j4Eax4butS1SwuNWDXA0eWO4voII01K086/MWCsM3lQlIIo2l1H4b6T8Of2evAHxP8AB/xK%2BN%2Bn/EbTZPG2saVfeCf2f9UlTUNd1i%2B%2B3ahb3Ol3%2BkTSafZPdybYBMbVmhBIuSQ8tfflFAHH6DN8bfEvwL0q61BtC8MfEG98OWkmopeadJqWn6bqbQo08ZhiuYXniSQuoCzoSADu9fO/%2BCdNv4ltP2br618ZatY3%2Brx/Fv4hrqd9pmnPaW1xOPGeteZJFA80zQoWyQjSyFQQC7YyfdK8Z/YP/wCSIa5/2Wb4j/8Aqa63QB7NRRRQAUUVz3xZ%2BKngX4IfDXW/i58TNdj0zQfD%2BnyXmp3snOyNB0AHLMxwqqOWZgoBJFTOcacHKTslq32SInOFKDnN2SV23sktW2afifxR4b8FeHb3xd4w16z0vStNtnuNQ1HULhYYLaJRlpHdiAqgDJJNfmf%2B2P8A8FdPFnxwvY/hT%2ByTq%2BueG/Cuq3DWlv4w0jS3n8S%2BLn3FDb6DZcPGhYMpvZNgUqwUiRAknF/th/FX9qf/AIKI%2BKPCXw7bw7caBYePZ1uPhT8IJpMTXFgpyfE/iErkJaooLw2xyHZc4dYyZ/vb9jH/AIJ3fAv9jbTv7d0S1l8R%2BOL21SLW/HmugSX1xhQpihzxa24ACrDHgBVQMW2g18hWxmZZ/Xlh8E/Z0Y25pu93fWyWjV1ra6dmnJxTSf0OVZBl9bKaOd8ROpDB1ruhh6bdOvi4xdnUnUavhcG5JxU4xeIxFpqiqcE6p8dfs0/8ER9d%2BLesj4m/tXabL4L0a8k8%2BTwfZa6%2BpeItWDDBbVtYflS6nDw2ojRgRkRuDX6LfBz4F/B39nzwfF4B%2BCfw20jwzpEWD9j0mzWISNjG%2BRh80rnu7lmPcmuror28tyTLsqV6MPee8nZyfztovJWXrua5pxNjcfgo5dhqcMLgoO8MNQj7OjF/zSim5VanerXnWqvX343sFFFFesfOBRRRQAUUUUAFFFFABRRRQAUUUUAFFFFABRRRQAUUUUAFFFFABRRRQAUUUUAFFFFABRRRQAV4z%2By//wAlv/aO/wCyzWP/AKhXhevZq8Z/Zf8A%2BS3/ALR3/ZZrH/1CvC9AHs1FFFABRRRQAUUUUAFFFFABRRRQAUUUUAFFFFABRRRQAUUUUAFFFFABRRRQAV4v4/hiuf8AgoJ8MredAySfBfx6rqehB1bwgCK9orxfx1PCv/BRH4W27SqJH%2BC/j1lQnkgav4PBIHoMj8xQF7O55r/wRHmlg/4Jy%2BD/AAvcOWm0DV9d06UnrlNWu2AP4OK%2Bsq%2BS/wDgj7/xLfgx8TvBPT/hGvj54q0zZ/c2XEcmP/IlfWleTkX/ACJsOu0Uv/Abx/8AbT7/AMVUn4k5tUX2686n/g1U6v8A7lCiiivWPgAooooAKKKKACiiigAooooAKKKKACiiigAooooAKKKKACiiigAooooAKKKKACiiigAooooAKKKKACiiigAooooAK8Z8cf8AKQv4X/8AZGfHn/p28IV7NXjPjj/lIX8L/wDsjPjz/wBO3hCgD2aiiigAorzD9tP4veKvgH%2ByZ8Q/jH4GjtTrfh/wpeXWjvfRF7eG6EZEUsqggtEjlXdcjKqwyM5Hm/w98f8A7UHhS1%2BPnwQ0rx1N8T/GXw%2B0O21D4e6z4nsLCzn1C7vdKklgsLsWENtbkLeQNh1jjPk3EasSyGRwD6Xor89/C37aH7R9x4g1r9nCx%2BKXxDN/f3vw5itPiB8RfhtZ6JrGjSa9qGq22pRQ2L2EEEiRJpJW2llt5UM902WuY4l361n%2B0P8AtZfETXrn9nTRv2k7zw9q3gnTfiNe3nxAi8OaVLceIm0LUtOtdOS5hmtWtki8vUf9M%2BzRwO8kC%2BU1srlQAfeVeM/sH/8AJENc/wCyzfEf/wBTXW66X4Y/Ha28V/sveFv2j/Fnh7UrZNc8Fabrt9peiaLd6lcwm5topmiitrWOSeZlMmNqIzcdOtcZ/wAE6fENh4t/ZuvvFOlW99Fbaj8W/iHc28Wp6XPZXKI/jPWmAlt7hEmgcA8xyIrqchlBBFAHulFFFABX5xf8FIP2kvDPx0%2BIfiTwlq4%2B3fBb9n8xar8Soo5dsfi7xQW26d4dVhnegmKmYAEA7wwUojH2z9qL9sj4ofEf4pXX7EP7AEVtqnxC2BfGnjidfM0rwJbMcNJMwyst51CQDOGHzAlSo8b%2BHf7LXgTXP2pfAv8AwT7%2BHd1cav4C%2BA7x%2BOvi9rd4A0niPxZdZayjuTk7n5MxViw8sGMn5Aa%2BTzrGTx0fquG1Tkot9JT6QXdRs51LaJQUG7yaXbwjlGB404j9hi7vLMGpV8ZJaKdOi0/q8JdZVqjp0W1onU5dWpJfQH/BPT9lXxZ8NNH1P9p79ouZNR%2BMXxMiivPFF00W1dFtCqtBo9sp/wBVFCoRWUdXQAlgiGvpWiivo8JhaWCw8aNPZdXu29W2%2Brbu2/8AgW7eIc%2Bx/Eub1cwxduadkoxVoQhFcsKcI7Rp04KMIRW0Y9W5ORRRRXSeKFFFFABRRRQAUUUUAFFFFABRRRQAUUUUAFFFFABRRRQAUUUUAFFFFABRRRQAUUUUAFFFFABRRRQAV4z%2By/8A8lv/AGjv%2ByzWP/qFeF69mrxn9l//AJLf%2B0d/2Wax/wDUK8L0AezUUUUAFFFFABRRRQAUUUUAFFFFABRRRQAUUUUAFFFFABRRRQAUUUUAcx8aND8W%2BI/hbrekeBfiVqXg/VZLMvaeI9IsrS4ubIowdjHHeQzQMzKrJ%2B8jcDfnBIFfP9x%2B0j8bE/4I/eGP2nLPxjbN8RNa%2BDfh7Uxq9zYQg3esX9paZ8mBY/J%2B0zTzlYYzH5PnSRKy7Mivoz4jfD/w/wDFTwTqHw%2B8VXOrw6dqkIiu5NB8Q3ulXYUMGxHd2MsVxCSQATHIpIJU5BIPnvhT9hf9mvwd8DV/Zr03wz4gvPA8egro1v4f13x9rWpx29kjK0UcTXl5K8LRGOPypEZXhEaCNkCgAA5j/gnz8VfjH8QtF%2BI/hb456t4kk1jwf8Qzplnp3jmz0mLxBYWL6Vp13EmoHRVGmyyPJczSxyWhZPs8kCu3npMq%2BYfHf9ovw9F/wWa/Zw%2BG2lWfiC2nm8E/EfRNUn1bwpqNhaTM6%2BH7uMW11cwRwXy7rIAtbvKqkoGILLn6i%2BDHwE%2BGHwA0bUdF%2BGek38X9s6o2pa1qGs6/e6rf6jdmKKHzri8vppridhDDDEpkkbbHFGi4VVA%2BIv8AgsD4hvPAX/BQD9jb4n2522%2Bg%2BI9cOqTZx5Vncah4ctZm/KcD8a4cyrPD4KVVfZcX8uaF/wAGzzc3xDwmXzrL7Li/lzwv%2BDZ61/wTJ/4kvxX/AGofBONv2f8AaE1TU9np9sggkz%2BOyvrSvkv9ib/iSf8ABRL9rjwZ90R694T1ONex%2B1aS7MR%2BK819aVz5Jpl6j/LKovuqT/zP1LxO9/i%2BVb/n7RwlT/wPB4V/%2B2hRRRXrH5%2BFFFFABRRRQAUUUUAFFFFABRRRQAUUUUAFFFFABRRRQAUUUUAFFFFABRRRQAUUUUAFFFFABRRRQAUUUUAFFFFABXjPjj/lIX8L/wDsjPjz/wBO3hCvZq8Z8cf8pC/hf/2Rnx5/6dvCFAHs1FFFAGZ408G%2BFfiL4O1b4feOtAtdV0TXdNn0/WNLvYg8N5azRtHLDIp4ZHRmUjuCa4n4Xfsl/BL4N6dd6b4A0/xFB/aM882q3d/471i%2ButRllt4bYyXNxdXUk1yyQW8MUTSuxgSMCLyxXpNFAHktl%2Bw7%2BzXZ/DvXvhlceEtZ1Cy8TahaX2tanrXjbV7/AFi4urR45LOYarc3T30clu8MbwMk6mBkDR7DzVLxH/wT6/ZM8V/DrRfhZrHw51D%2BydC/tIWbWnjDVre8nXUZDLqMd1eQ3S3N9HeSHzLmO5klS5cBpQ7AEez0UARWVlZ6bZw6dp1pFb29vEscEEMYVI0UYVVUcAAAAAdMV49%2Bwf8A8kQ1z/ss3xH/APU11uvZq8Z/YP8A%2BSIa5/2Wb4j/APqa63QB7NXx5%2B0J%2B1J8Xv2r/irqX7Ev/BP/AF4Wk2nv5HxS%2BMEaF7PwrCch7S0YECa/YBlG0/uyDghg7w%2Bjf8FMP2g9b/Z2/ZF8Qaz4F8yTxh4nkh8MeBrW3OJptWv28mLy/V0UyTAf9Mq0vgP8Nvgr/wAE4f2M9L8NeJta0rQtD8HaClx4q16RRGl1ebF%2B0XLkDdI8kvCryxyiKDhRXjY6pPE4h4WM%2BSEY81SSdnZ3tFP7N0m5S3UVpZu68evSx2dZrHKcJzaqPPyJucueXLClC12pT1u0nLl0jZyuuP8AFFz%2BzZ/wSA/ZBa38AeFZbm5luVttF0xW87VfGGvzjbGJHA3TTSOMswGERSFUBVSt3/gnL%2BzR4v8A2dvgRNqvxhlS5%2BJHj7WrjxP8RL4MGJ1G5bd5AYZG2FNseASoYOV4avMv2Rfh/wCM/wBuL46xf8FHP2gfDtzYeHNNSS2%2BAvgnUkwbCxY4fWp4zx9puMAp/dXBBYCJx9l1nltCOIqRxSjy0opxpRtb3XvNro5WtFbqGr1mz9dz6ngeB%2BH/APVHA8vtm4Sxco25Yzp3dPCwa0caDk5VpJtTxLaTcaPNIooor3T86CiiigAooooAKKKKACiiigAooooAKKKKACiiigAooooAKKKKACiiigAooooAKKKKACiiigAooooAKKKKACvGf2X/APkt/wC0d/2Wax/9QrwvXs1eM/sv/wDJb/2jv%2ByzWP8A6hXhegD2aiiigAooooAKKKKACiiigAooooAKKKKACiiigAooooAKKKKACiiigAooooAK/Pr/AILleD73xbYWdzpGV1DQfgj4v1ywmUcwvZ%2BI/BM7OP8Atmkg/Gv0Fr5m/bG%2BHw%2BLP7Q%2Bk/C3yfMPiP8AZp%2BJ%2BmKmOrT3nhSIY98sMVx5jQeKy%2BtRX2oyXzadvxsefm2GeMyuvQW84SXzcXb8bHGfsleMLLxH/wAFRPiv4o03C2/jz4PeD/EduFPDIITEp9%2BHAr7Mr8w/%2BCfXxEbRPjh%2Byr8Y57gmw%2BKfwDv/AIe3MjHKrfaFcM8bMezssPlj1571%2BnleZw5XVfBTfXnb/wDA1Covv5mfovGGI/tTBZJm0dY4nL8JJP8AvU4ToTXrGdK33BRRRXvnxQUUUUAFFFFABRRRQAUUUUAFFFFABRRRQAUUUUAFFFFABRRRQAUUUUAFFFFABRRRQAUUUUAFFFFABRRRQAUUUUAFeM%2BOP%2BUhfwv/AOyM%2BPP/AE7eEK9mrxnxx/ykL%2BF//ZGfHn/p28IUAezUUUUAc78XPil4N%2BB/wt8RfGP4h372uheFtFudU1aeKFpZFt4ImkfYi5aRyFIVFBZmIABJFcR8O/2wPBHjDwT458W%2BNvAnijwHefDaJp/GnhvxbbWr3%2Bn2/wBiW%2BS4AsLi6hmjeBtymKVzuSSMhZI3QbP7VfwVuv2jP2bvG3wO07Xo9KvPE/hy6sdO1OaEyx2l0yEwTOgILosoRmQEFlBGRnNeV%2BFP2fP2rdbh%2BLvi/wAc6n4R8IeL/izoJ0q3v/B/iO71GPwotrphtrC4ha4sbc3spuZ7q4fcsAjXyYx5pVnIBt/DX9uyH4taTri%2BCv2W/iVceIdD0zRtVfwdJP4fS%2Bu9L1QXBs76KY6t9j8tvstxmN7hJ18vJiAdC2L4U/4KT6H8QPD3gXU/h9%2Byj8U9a1T4gHxI%2BkeHLWTw7FdQQaJfR2N3cyyz6vHatE8s0bQtFPL5sbBwACM8d%2Bzr%2BxH%2B0J%2Bzz8Nvi1/wpnwT8JvhZrviv4fado/gvwr4E1W8m0G1160t7%2BNvEN07WFu/2ic3VosirC7tHpsW%2BaVmBj3f2iv2D7PW/wBm/wAE/s0/CD9mv4VeL7Lwd4Jm8OeHPEPxL1me1vfCmLW3t4b6wMGnXUjz/uVkdkmtZN8Me2UFiyAH1NGzPGrtGUJAJRsZX2OMivGv2D/%2BSIa5/wBlm%2BI//qa63Xe2vwy%2B3/B6y%2BE3jjxjrmqOmh2%2Bn6pr9jrN1pmoXskcaK9wLi0ljmgkdlLlo5FYFiM15V%2BwLbaH8Mf2U9atUu759N0D4ofEcefqeqT3tyYYfGOt/NLcXLvNO%2B1ctJI7OxyWYkk0m0ldibSV2eX/ABZ13Sf2kf8Agp9pnh/XL%2BNfAP7Mnhh/FPiq4kOYP%2BEgvIibVZP%2BuFshuFbqrK4IrJ%2BFHgLxt/wVk8c6Z%2B0z%2B0Dos%2BlfAfRL83Pwx%2BGt0w3eJZo2Krq2pqCQ0eQfLgORjOcoWafw/wAPa74vX/gk/L4j0y53fFX9sb4nTWU02CSrahfSQMg7i3SygcDoE%2B0eh5/Tj4ZfD7w78JvhxoHwu8I23k6V4c0a20zToscrBBEsSZx32qM%2B9fIZdT/tWu3V%2BCVqsl3cv4UJd1CnFScdnKWt0rP7HgnEVOEeAFxNRXLmGZ1aqozfxUcNCEYTnT/lqTc4UY1PihFVvZuMpOa2ooo4Y1hhjVERQqIowFA6ADtTqKK%2BwPj9wooooAKKKKACiiigAooooAKKKKACiiigAooooAKKKKACiiigAooooAKKKKACiiigAooooAKKKKACiiigAooooAK8Z/Zf/wCS3/tHf9lmsf8A1CvC9ezV4z%2By/wD8lv8A2jv%2ByzWP/qFeF6APZqKKKACiiigAooooAKKKKACiiigAooooAKKKKACiiigAooooAKKKKAOe%2BK/j2%2B%2BGHw81Px5pvw817xXPpsKyJ4e8Mi1N9eZdVKxfa54IQQGLEySooVWOeMHE8DfHmy%2BKP7Nvh79pX4ZfDrxFrlp4q8Jaf4h0Pw1bmyg1OeC8t454oT9ouY7ZJQko3BpwgKkBzxnb%2BK4%2BILfDnWIvhX4d0bVvEEtm0em6f4g1yXTbOV2IU%2Bbcw2108QCliCsMmSAMAHcPM/2KPh7%2B0n8Dv2U/AfwJ%2BLHgzwPFq3gb4d2Ggpd%2BHfGl5fW97dWVtHbROTNplu0ccqxCRjtZoy20LJjeQDoP2Yv2mbD9pzRvFOp2nwl8V%2BD5/CPjC58N6np/ixtOeSW7t4oJJmhk068u4ZI1abySRJkSwyoVGzJxvHH/ACkL%2BF//AGRnx5/6dvCFbX7HfwN1n9nP9m7wx8K/FusWup%2BI4Laa/wDGWr2QbydS129nkvdTu03gNslvbi4kXcAQrgHkVwl/8MfDfg7/AIKbeC/Gek6l4hmvPEPwe8cSX8Oq%2BLtRvrSIpq3hLAtrW5nkgsgdxytukYbA3A7VwAfDbWV38JP2Jde8V6VbOL39lT9r26uooYly7aT9vQSIAP8AlnIL3J9oyelfrNZXtpqVlDqNhcJNBcRLJBNG2VdGGQwPcEEGvhTw38Irbx3%2B1N%2B2v%2Bx/doi2/wAQfDGk63oavwFmu9Mlgmm54yt0ImB9V5r3D/glp8XLn40/sC/DTxTqkjnUbDQF0XVUl4kW5sHazfeDyGbyA5/3896%2BTyH/AGbFOj0cWvnRqTh/6RKHyR9Pk/8AwpeDeE6zy3F18O/KlX5qtP5KpRqJf4vv%2BgKKKK%2BsPmAooooAKKKKACiiigAooooAKKKKACiiigAooooAKKKKACiiigAooooAKKKKACiiigAooooAKKKKACiiigAooooAK8Z8cf8AKQv4X/8AZGfHn/p28IV7NXjPjj/lIX8L/wDsjPjz/wBO3hCgD2aiiigAoqO9vbPTrOXUNQu4oLeCJpJ55pAqRooyzMx4AABJJ6Vz3wy%2BM3wf%2BNXhD/hYPwb%2BK3hrxboAmkiOueGddt7%2Bz8yP76edA7JuXIyM5HegDpaK82tP2y/2QNQ%2BHmqfF6w/as%2BG0/hPRL6Gy1rxRD4509tOsLmV0SKCe5E3lRSO0kaqjMGYuoAJIq3q37Vf7L2g%2BA9E%2BKmuftI%2BAbLwx4luxa%2BHPEl34xso7DVZyWAitrhpRHO%2BUcbUYnKNxwaAO%2Br4/k8af8K8/wCCW/x18YpN5ctn4j%2BL32Z84xM/irX0i/8AH2WvsCvzt/a%2B1%2B60r/gjt8VNB02ULe%2BI/jj4x0ayyfvNP8R9SDD8YxJXBmtV0Mrr1F0hL/0l2/Fo8zOqzw%2BTYmqt1Tnb15Wl%2BLRW/Yg8F/8AC2P2nPgj8Mmh8zQv2bfgLpeo6rH1RfE%2Bt2cbBGHQlbctIpPKsp4HWv0br4%2B/4IreEkv/ANlzVf2l9Rt9mqfFvxjqOtyI/LWtlDO9naWme6RxwEr6CSvsGuLh2jyZZGq96nvfKyjBfKEY/ez9N8QKUMqzahw7S%2BDLKNLCabOpSiniJf8Ab2JnW16qEfIKKKK9w%2BFCiiigAooooAKKKKACiiigAooooAKKKKACiiigAooooAKKKKACiiigAooooAKKKKACiiigAooooAKKKKACiiigArxn9l//AJLf%2B0d/2Wax/wDUK8L17NXjP7L/APyW/wDaO/7LNY/%2BoV4XoA9mooooAKKKKACiiigAooooAKKKKACiiigAooooAKKKKACiiigAooooAKKKKACvGfHH/KQv4X/9kZ8ef%2BnbwhXs1eM%2BOP8AlIX8L/8AsjPjz/07eEKAPI/2wpZP2Vv2%2BvhJ%2B2lFIYvDfjOM/DX4huT%2B7hW4kM%2Bm3LdlC3AYPIeiKBn5qs/8E5D/AMKj/aN/aR/ZJn/dw6F8R08WaDC3AFhrUAnEcfqkbx7T6F/Wvaf2z/2c9L/ax/Zf8ZfATUTGk2u6O66VcydLa/jIltZs9QFmSMnHUAjvXwxoXxy8Z6T8N/hh/wAFatK0%2B8fXfBtv/wAK%2B/ab8PRqWnntIJxBLdvGP%2BW8Euy4x1KzICQqNXyOOvluaqt9i7qfJpQrfd%2B7q27KT6H0/huo4jN804TlJL%2B1KUZ4e%2B31uhUjUjC/R1bShF7c1WKektP03oqpoGvaL4q0Ky8T%2BG9ThvdO1K0jurC9tpA8dxDIodJFYcFWUgg9wat19ammro%2BanCdObhNWabTT0aa0aa6NNNNdGmFFFFMkKKKKACiiigAooooAKKKKACiiigAooooAKKKKACiiigAooooAKKKKACiiigAooooAKKKKACiiigAooooAK8Z8cf8AKQv4X/8AZGfHn/p28IV7NXjPjj/lIX8L/wDsjPjz/wBO3hCgD2aiiigDyL9vv4feNPit%2BxR8U/hx8PNGl1PWdZ8Daja2WkQOFfUy0DbrNSxCgzruhG4hf3nJAya8U8OXGufEWy/aW8a%2BAfgD4rk034k%2BFxaeC/CXirwhqmgHxDf2Xh/7PcGdZ4YZLBJjJa2KyTeS0n2NjFuRFc/ZFFAH5sfCH4JrqvhXxtefE/xd%2B0JJ4fg0r4YPpHxIuvgvcW3iu21fQ7%2B9vU0y20mPRmFxY2kiWkn2hrCbcdQuEe5uBGGh6XxJrPx51PSvC3xq/aZ%2BB/jnxvZXnwu%2BJfgzT7ey%2BHFzNql79s1Ww/saXUNMtYSdPk1DTbH97JJHDDC%2BVlFqJfKX9AqKAPOfhJ4G%2BMfg39lLwh8N38XaZbeOtH8DaZp15rWs6dJqdqNQhtYo5pZIo7i3edS6ueJoyc53V%2Bbv7d3i7xX4T/4Js%2BEPC/iXWbHUNck/al8d6jrd1penvaW92mneJvEt1cvFA80zxIXVCqNLIVGAXY/Mf1or8Uv%2BCnvjOWD4YeE/DNu%2BYtL8dfG/UdQj65F14w1HToD/AN/J2/OvneK63seH677pL72v8jpy3Lv7az3Lsstf6zisJSt3VTFYdSXzip38rn6d/wDBM7wj/wAIR/wT9%2BD%2BhmLYz%2BAdOvHTGMNcxC5OffMpr3Kue%2BEfhIeAPhR4Y8CLHsGieHrKwCAfd8mBI8f%2BO10Nezg6P1fB0qX8sYr7opfoejxJmH9r8R43HXv7atVn8p1akl%2BEkFFFFdJ4oUUUUAFFFFABRRRQAUUUUAFFFFABRRRQAUUUUAFFFFABRRRQAUUUUAFFFFABRRRQAUUUUAFFFFABRRRQAUUUUAFeM/sv/wDJb/2jv%2ByzWP8A6hXhevZq8Z/Zf/5Lf%2B0d/wBlmsf/AFCvC9AHs1FFFABRRRQAUUUUAFFFFABRRRQAUUUUAFFFFABRRRQAUUUUAFFFFAGP8QPiJ8P/AITeDr/4ifFPx1o3hnw/pcQk1PXfEGpxWVnaIWChpZpmVIwWZRliBkgd6n0Xxh4S8SeErTx/4d8U6df6Ff6dHqFjrdlfRy2lzaPGJEuI5lJR4mQhw4JUqQQcc1jfG7xF4e8JfCfXfEXinQtU1OytbItJZaL4au9YupHLAR%2BVZ2cM08zBypxHGxXG7gKSPj7RNL%2BIfxf/AOCIGi/s7/DvwH400vxzYfAXRdM1Hw/4n%2BHWq6bNJLZWtrBf6eYr%2BCBZnkWKeARbgJlfKkxtvoA%2BxfhT8a/g38ePDkvjH4HfFrwz4z0iC8a0n1Xwpr1vqNtHcKqu0LS27uokCujFScgOpxyK8/8AHH/KQv4X/wDZGfHn/p28IVn/ALDPi/4u%2BK9K8bR%2BPNR8W6t4bsPFEUHgLxJ4%2B8Djw5rOp2J0%2B1aYz2P2SzKrFdNcQxyG2hLpGPlcKJpM6/034r2n/BTbwXeeNvGnh7UNCuPg944PhrTtK8MT2d3YINW8JeYtzcyXsyXZOUwUhtwu05DbhtAPoevhn4gR6B%2Bwb%2B2P4x/4W/4dhm%2BAX7SlzHFq1/MM2WgeI5IWhuEu1xhIL1CWaQnG7rhUY19zVzXxi%2BEPw8%2BPfwy1n4QfFbw3Dq2ga9ZNbajZTj7ynkMp6o6sAyuMFWUMCCBXn5jg54qkpU2lUg7xvtezTjL%2B7JNxfqnujz8wwuIrKnXws%2BSvSkp05a6SXR21tJaNp3XuyWsUfKv7CfxJuf2N/izqX/BMr47eIZo4rK8kvPgZ4h1QkR6/ocpMgsVlPyvc2zEoUyCRwo2oufs%2BvzY8XeG/C3wv8PRf8E4P%2BCmmoal/wisOoL/woT9oAjyja7Rm2gmux/x6XsGAoZsI6LhsKFZ/Xfgp%2B238RP2T/FVj%2By3/AMFI9RFtPLMLbwJ8axAV0XxVb4/di5l5W1vAuN%2B8hTjJI%2BV5PFyvM4YOP1ev7sE7Jvem%2BlOp2ttTqfDONldSWv6rKWH8WcPUznKYcuawV8ZhNOeU0vfxNCKtzqfK6lalFOUZOVakqlKclR%2ByqKbDNDcwpcW8qyRyKGR0bIYHkEEdRTq%2BqPzppp2YUUUUAFFFFABRRRQAUUUUAFFFFABRRRQAUUUUAFFFFABRRRQAUUUUAFFFFABRRRQAUUUUAFFFFABRRRQAV4z44/5SF/C//sjPjz/07eEK9mrxnxx/ykL%2BF/8A2Rnx5/6dvCFAHs1FFFABRXmH7afxe8VfAP8AZM%2BIfxj8DR2p1vw/4UvLrR3voi9vDdCMiKWVQQWiRyruuRlVYZGcjzLwX8YvjD8JNI/aC%2BHvxC%2BOcXii5%2BFXh2DXNC8feN9NtLUQxXGkyXBj1BdMt4ImjgntpZC0UKv5EyKQ7LvcA%2BnKK%2BGv2YfjZ%2B0p448N/Ebwv%2B03%2B0h4%2B%2BFg8LeC/DHiu51rxvo3hOHXNLs7mPUWvrpHtLSbTF0yR7LZF58b3kTW12J1j3QGotf%2BLH7fNz8DPhh8W9b1j4s2nheLTPGGo%2BPda8AeGfC0XiCTSor%2BI%2BHr69sdagKxyyaWHnuLazhEwndkEK4ESgH3VX4YftIyt8Uf2sD8MBiS1l%2BIOteFjDjP%2Bmah8V9au/1htuntX7VyfFLwbB8K4fjBZXmo6toM2kQ6ja3Oh6Hdajc3dtIivHJFa2kTzzFlZW2Rxlufu8V%2BKf7Kc0Xxn/4KY3l/BbXv2HV/2wdUv9Gg1PS57O5ii0u/1y/kWS3uESaBw14haORFdDkMoIIr5Xi5OpgKVH%2BepBf1959NwJFvxDyep0o1p135fVsLjMQn8pwps/dCiiivqj5kKKKKACiiigAooooAKKKKACiiigAooooAKKKKACiiigAooooAKKKKACiiigAooooAKKKKACiiigAooooAKKKKACiiigArxn9l/wD5Lf8AtHf9lmsf/UK8L17NXjP7L/8AyW/9o7/ss1j/AOoV4XoA9mooooAKKKKACiiigAooooAKKKKACiiigAooooAKKKKACiiigAooooAKKKKACvGfHH/KQv4X/wDZGfHn/p28IV7NXjPjj/lIX8L/APsjPjz/ANO3hCgD2aiiigDA%2BKHws%2BHXxq8C6h8M/iv4NsNf0HVYTFfaZqUAkjkHY%2BqsDgqykMpAIIIBr4o%2BIv7L37R37GXgvUvh54Q8Aj9or9nW7Ui9%2BFfiEibxB4ct%2BuNPlcH7XFH1SL/WKQoTad0p%2B9qK8/G5bQxvvP3ZpWUla9n0aaalF9YyTXo9Tir4NyxVPGYepKjiKbThVpvlnFp3WqtdXSdnpfVOL1Pzb/Ze%2BIvxK%2BFvhyfxj/wTI%2BKA%2BMPwz05y2ufs/eN782vijwkAcSQ2UsuXCqcqIpAyHaQhlZi9fXH7L3/BQD9m79qx38O%2BDfFMuieMLNmj1j4f%2BKofsGtafKv30e2kOX292j3KO5B4rP8A2mP%2BCcf7O/7SHiRPilFa6l4I%2BIdqd%2BnfEbwJenTtVikAwDI6fLcDAAPmAttGFZa%2BWf2j/wBkv9roWiWv7Uf7MXhr9o/TNL2jSvib4AvB4c8c2EafckdV%2BW4dCBtijLgnlsnNfPpZvkmkY81NdFzSh8kuapS9LVafblWh9w%2BOsvzxez44wkvbf9B%2BDgnOXnisL7qqvrKpTcKr1blUer/SKivyh%2BGP/BQT41/ArVB4I8Aftj2GtpZEB/hl%2B1VoNx4d8Q2EfQRDVlH2eaTIxvnkAH90cV9KeFf%2BCxngzw/o8Op/tTfsz%2BP/AIe2rD974p0%2BxXxD4dPqY9RsNyyjv8qHgiu/DcTZZXX7x8jW99Uv%2B3o3S/7eUPNI7MLwTVz9OpwvjcPmcf5aFSKrrylhazpYiMu6jCrrom%2Bv2VRXlfwh/bg/ZA%2BPKQj4S/tI%2BD9ZuJwPL0%2BLW4o7znpm2lKyr%2BKCvVK9yjXoYiHPSmpLummvwbPl8xyrNMnxDw%2BPoTo1F9mpCcJfdOMX%2BDXmFFFFanAFFFFABRRRQAUUUUAFFFFABRRRQAUUUUAFFFFABRRRQAUUUUAFFFFABRRRQAUUUUAFeM%2BOP%2BUhfwv/AOyM%2BPP/AE7eEK9mrxnxx/ykL%2BF//ZGfHn/p28IUAezUUUUAZnjTwb4V%2BIvg7Vvh9460C11XRNd02fT9Y0u9iDw3lrNG0csMinhkdGZSO4JrgvAf7Gv7Pfw58Nap4Q0Hwrqt3p%2BvC6HiOLxD4v1TVm1sXFrFaSLfPfXMz3wFtBFCgnMgijQJHsBIPqFFAHg1/wD8E0f2O9V%2BH2qfDPVvA/iW703WbvSJ9RuLv4meIJb%2BUaXK02nQi%2Ba%2BN0lvbSu8kVssohR3ZggZiT0Hi79ij4F%2BPfAemfDTxje/EDUNF0uC8gFrcfGDxKXv4bpg08N9L/aHmajE2NojumlRUJRQqMVPrNFAEGmaZp2i6bb6Po9hDaWlpAkNra20QSOGNQFVFVcBVAAAA4AFfkX/AME7PBzap/wVev5riLdJpvx5%2BNviRTjpDLqzaWh%2BgeKQD61%2Bvdfm1/wTJ0TS9Y/4KgfFnXtNtQq%2BGLPxxp9zgkj7Te/EfW7suc9GKIB9BivDzqiq08Kv%2Bnsfyk//AG0%2B44CoKONzDHv/AJh8DjJL1q06eGX3%2B3kj9JaKKK9w%2BHCiiigAooooAKKKKACiiigAooooAKKKKACiiigAooooAKKKKACiiigAooooAKKKKACiiigAooooAKKKKACiiigAooooAK8Z/Zf/AOS3/tHf9lmsf/UK8L17NXjP7L//ACW/9o7/ALLNY/8AqFeF6APZqKKKACiiigAooooAKKKKACiiigAooooAKKKKACiiigAooooAKKKKACiuW%2BNvgix%2BI3wo13wbqWv69pcF3YkvfeGdfutLvo9hEg8q6tJI5oSSgUtG6sVLDIzXgnw80j46/tCf8EbvBekeAPidfW3xG8Zfs/6GLDxbqXie7s7k6pc6Tbn7VLfwh7mORpHLNOm6XcxYZagD6krxnxx/ykL%2BF/8A2Rnx5/6dvCFVf2F/GNvqnhTxp8L7vwrq%2Bka58PPHMmg%2BJrbUvibqXjCJrt9PsdQV7bVNSP2maE299b/JIkRjkEqeWMbmyL/xp4k8Q/8ABTbwX4d1b4R%2BIdCs9J%2BD3jhLDXtVudOe01oNq3hLL2y213LOgTaM/aIoD842hvmwAfQ9FFFABRRRQAUUUUAc/wDEP4UfC74u6KfDnxW%2BHGheJdPIObLX9IhvIuevyyqwFfOvib/gjT%2BxDd6rN4l%2BFmgeKfhnq85y%2Bq/Dfxhd6bID22xl3iXHoEAr6qorjxOX4HGO9elGT7tK/wB%2BjX3nBi8ry3HtSxFGM2tm0rr0krSXykj84/i5/wAEDtW8Wmabwv8AtWW%2Bq7yS6fEH4c2GoXlyPSTUoPJus/7QOa80g/4JTf8ABVz4C3Al%2BA/xosLfT7cYtdL8B/FPV9NEmOgkg1FJoT9N2K/WeivFq8I5NOfPBShLvGck/wBfzPpcv4l4xyjDLDYHN8XTpL/l268q1L/wViY4qmu2kVptY/KGx%2BKn/BxR8DjJ/wAJR8PNY8TWsB/0a1n0DRta3IP702nzQzNn3G6rth/wW0/4KOfDG3M37Q3/AATnuU8n/WrDoOtaOXA7hp4bhBn1yRX6o0VC4ex9H/d8wqrylyzX4o6J8WcQVv8AeoYSv51MDQjL/wADw08I9er5b9T80PCP/BzB8CJZDD8T/wBmPxlokkZxPFpepWl6yH0CzG3J/IV6n4P/AODgz/gnB4m2/wBs%2BL/FPh/d1/tfwrM%2B36/ZTN%2Bma%2By/EHhDwn4sg%2By%2BKvC%2BnanFjHl6hZRzLj6ODXnviT9hv9i7xgWbxN%2ByV8Nr126zTeCLEyfg/lbh%2BdaLB8VUvhxdOf8AipNf%2BkyOSpnNOr/EyvD/APcOtjKX4SliV%2BNjhfCf/BXH/gm7402/2P8Atb%2BGId/T%2B1fPsPz%2B0xx4/GvSvC/7Xf7KHjbb/wAId%2B038PtVL/dXTvGdjMT7YSUnPtXmXiD/AIJD/wDBNrxNu/tL9knw3Hu6/wBnyXNp%2BXkSpiuJ13/ggr/wTH1jcbH4I6nphbvYeMNROPp508laqfFUPihRl6SqR/NSRx1MbhZbYGUf8OJhL8KmFi/xR9faZq%2Bk61bC80fU7e7hPSW2nWRT%2BKkirFfB13/wbtfsIC5%2B2eGvFvxM0KYHKy6T4pgDL9DJbOatW3/BEOx8L4/4Vl/wUN/aB0Hb/q/K8Zg7f%2B/SRVosbn0fjwcX/hqx/wDboI4qmLivhw1X/wADw7/KUX%2BR9z0V8Nw/8Erf20tCn83wf/wWO%2BK0QB%2BVdbsH1L8/MvQD%2BVa0n7GX/BWvw5aeV4Q/4K4QagQPlTWvg/poz9XZpmqlmWYL48FNekqb/wDbkc9THTg0o4eq/lTt/wCnr/gfZ1FfECfA7/gvJosudP8A20/hBrSg8DWPCht931%2Bz2XH4GtdI/wDgvX4csebj9mHX3UfxDXI5G/IRJTWbz%2B1hay/7cT/KZNTHzp2/cVX6RT/9yI%2ByKK%2BHrr4z/wDBfHRpMXH7IPwW1lR30rxFJBu%2Bnn3w/lTh%2B11/wWk0OLf4i/4JZ6BfAdW0r4mWAz9FE8jUv7dwy%2BKlVXrSn%2BlzT61USv7Cp/4Bf8qjPt%2Bivha5/wCCk/8AwUt8Pqf%2BEh/4I1%2BJ7jb1Ol%2BOVl/IR2Umaoyf8Fg/2ttJyfFH/BHD4yWqr96S0hu7hB/wIaeo/WpfEWVx%2BJzXrSqr/wBsNoTxM1phq3/gmp%2Blz73or8/bj/gu1q2if8jh/wAE4vjNpmPveZpTcf8AfcaVRuP%2BDjb9nHRf%2BRu/Zi%2BLGm4%2B95ml2fH/AH3cJUPinII/FXS9VNfnBHTDD5jU%2BHB4h%2BmGxL/9JoTP0Qor89rL/g5S/YSucC5%2BGfxUtz3Mmg6ew/8AHb8n9K1rP/g4x/4J8XIzPp/xAtv%2Bu3hqE4/74uGprijh2W2Kh9//AADOrHE0P4uHrR/xYfEx/wDSsLE%2B86K%2BIbH/AIODv%2BCcl4Qr%2BKPFkBPaXwpKf/QC1bNn/wAF4P8Agm5dAGX4p69Bn/nr4K1E/wDoELVrHiHIZbYqH/gSPPq5tltD%2BLUUP8SlH/0qET7For5Jh/4Lm/8ABL5yFuv2kJrYntP4J1kfyszWha/8Frf%2BCYN5jyv2qrEZ/wCevhzVE/8AQrUVqs8yV7Ymn/4HH/M5lxHw83b63S/8Dj/mfU1FfNVt/wAFhf8Agmpd48r9rPQBn/nraXaf%2BhQitC2/4Kwf8E5br/VfteeEB/10u3T/ANCQVazfKXtiIf8Agcf/AJI1We5HLbFU/wDwZD/5I%2Bha8Z8cf8pC/hf/ANkZ8ef%2BnbwhWdb/APBT3/gnrdf6v9sTwEP%2Bumvxp/6ERXNeFP2kv2f/ANob/goT8P2%2BBfxl8N%2BLhpPwZ8bf2p/wj%2BrxXRtPN1bwn5fmeWx2bvLkxnrsbHQ1vSx2BrzUadWMm%2BilFv7k2zoo5ll2ImoUq0JSfRTi39yk3%2BB9OUUUV1HaR3V1a2NrJfXtwkMMMZeaWVwqooGSxJ4AA5zXkP7M/wC2n4B/ae1R9I0D4f8Ai3w1Lc%2BGbLxN4dPiyytYf7f0K7eRLfUrUQXExWNjH80U4huIxJF5kKeYmfVPFHh6w8W%2BGtR8KaqXFrqdjNaXJibDeXIhRsHscMa%2BbP2TP2Yf2n/hJ408M%2BKfjCngW8Pgv4aaZ8PNHfw/4gvCb7T4HMlzq8yS2KiK4lMFkFsVZ0jxMTdvlVABc0D/AIKk/AXVtJ1bxPq/gXxro2i2vgzU/FXh7WL%2Bws5Y/E%2BmWN5DZTSWUdrdSzpIbi5to44LqO3lkM6hUJWTZrf8PBfCP9j/ANnf8KE%2BIX/Cef8ACb/8Ip/wqny9I/tz%2B0P7M/tbPmf2h/Z/kf2f/pPn/a/Lx%2B73ed%2B6r598Hf8ABKD412mj%2BINPvT8NfDGs3PgK/wBN1Dxl4YmuZrv4jeITq9jqdhr2vwG0gEckMtnNmNZbpsancrHLGihX9G/4ZG/aw/4WV/w1/wD2Z8PP%2BFm/8LK/tw%2BCf%2BEuvv7D/sn/AIRz%2Bw/sX9qf2b5/n7v9M877FjP%2Bj7Mfv6APpX4M/Fvwf8ePhVoPxi8AzXD6R4i02O8s1vLcwzwhh80U0Z5jlRgyOh5V0ZT0r4a/4ItaFNdftX/tk%2BO7gl0b466tpVox/wCWYh1vWZZFH1adSa%2Bs/wBn/wDZpPw1/ZP0X9nTx94mu7u7XTZf%2BEi1Twzq15pTyXtzO91dPaz20sdxbp58smwrIrhNoJzmvn//AIIkfDWz%2BHvgP9oI2b3ssdz%2B1f4/t7O41LUZ7y5ktrbVZLeMy3Fw7zTvlJN0sjs7klmYsST5%2BMp%2B0xWH/uyk/uhJfqfX8O41YLIM5XWrQpU1/wBvYqlJ/hT18j7Yooor0D5AKKKKACiiigAooooAKKKKACiiigAooooAKKKKACiiigAooooAKKKKACiiigAooooAKKKKACiiigAooooAKKKKACiiigArxn9l/wD5Lf8AtHf9lmsf/UK8L17NXjP7L/8AyW/9o7/ss1j/AOoV4XoA9mooooAKKKKACiiigAooooAKKKKACiiigAooooAKKKKACiiigAooooAxviD8Ovh98WvB198O/ip4E0bxN4f1SNY9S0LxBpcV7Z3aBg4WWGZWSQBlVgGB5UHqK5Pw7%2Bx/%2ByV4Q8C3Hwv8J/sufDrS/DN3YPY3Xh3TvBNhBYzWryCV4Ht0iEbRtIA5QrtLAMRnmvRaKAML4cfC74Z/BzwnB4C%2BEXw60LwroVq7vbaL4b0iGxtImdizlYYVVFLMSSQOScmvNvHH/KQv4X/9kZ8ef%2BnbwhXs1fOH7R%2Br/GvR/wBvD4Tz/A74f%2BFvEWpN8I/Ha3dp4r8YXOiwRwf2p4SJdJbfT71nfdtGwxqMEnfkBSAfR9FeM/8ACcf8FC/%2BjX/gz/4fjVv/AJl6P%2BE4/wCChf8A0a/8Gf8Aw/Grf/MvQB7NRXjP/Ccf8FC/%2BjX/AIM/%2BH41b/5l6P8AhOP%2BChf/AEa/8Gf/AA/Grf8AzL0AezUV846T%2B0d%2B3brHxn1/4HW/7KHwkXVPDvhfSNdvLl/jrqnkSQajc6lbwohHhjcXVtLnLAqAA8eCxLBeo/4Tj/goX/0a/wDBn/w/Grf/ADL0AezUV4z/AMJx/wAFC/8Ao1/4M/8Ah%2BNW/wDmXo/4Tj/goX/0a/8ABn/w/Grf/MvQB7NRXjP/AAnH/BQv/o1/4M/%2BH41b/wCZeuX8A/tHft2/ETxX438IaP8AsofCSG48B%2BKItC1WS5%2BOuqBJ55NK0/Uw8W3wwSU8nUYVJYKd6OMYAZgD6Oorxn/hOP8AgoX/ANGv/Bn/AMPxq3/zL0f8Jx/wUL/6Nf8Agz/4fjVv/mXoA9morxn/AITj/goX/wBGv/Bn/wAPxq3/AMy9H/Ccf8FC/wDo1/4M/wDh%2BNW/%2BZegD2aivnH4RftHft2/GXwpd%2BL/AA5%2Byh8JLa3s/FGt6FJHe/HXVFcz6Xqt1pk7jb4YYbGmtJGQ5yUZSQpyo6j/AITj/goX/wBGv/Bn/wAPxq3/AMy9AHs1FeM/8Jx/wUL/AOjX/gz/AOH41b/5l6P%2BE4/4KF/9Gv8AwZ/8Pxq3/wAy9AHs1FeM/wDCcf8ABQv/AKNf%2BDP/AIfjVv8A5l65f4I/tHft2/Hj4MeEPjj4V/ZQ%2BElrpfjPwvp%2Bu6bbah8ddUWeGC7to7iNJAnhhlDhZAGCswyDgkc0AfR1FeM/8Jx/wUL/AOjX/gz/AOH41b/5l6P%2BE4/4KF/9Gv8AwZ/8Pxq3/wAy9AHs1FeM/wDCcf8ABQv/AKNf%2BDP/AIfjVv8A5l65f43ftHft2/Af4MeL/jj4q/ZQ%2BEl1pfgzwvqGu6lbaf8AHXVGnmgtLaS4kSMP4YVS5WMhQzKMkZIHNAH0dRXjP/Ccf8FC/wDo1/4M/wDh%2BNW/%2BZej/hOP%2BChf/Rr/AMGf/D8at/8AMvQB7NRXjP8AwnH/AAUL/wCjX/gz/wCH41b/AOZej/hOP%2BChf/Rr/wAGf/D8at/8y9AHqWq%2BB/BWu5/tvwfpd5u%2B99q0%2BOTP/fSmuc1T9mb9m/W8/wBtfs%2B%2BCLvPX7V4Us5M/wDfUZryj4u/tHft2/BrwpaeL/Ef7KHwkube88UaJoUcdl8ddUZxPqmq2umQOd3hhRsWa7jZznIRWIDHCnqP%2BE4/4KF/9Gv/AAZ/8Pxq3/zL1lKjRn8UU/VJ/mmdtDM8zwv8CvOH%2BGc4/wDpM4l7Uv2Df2HtXydS/Y5%2BFsrHq7eAdO3f99CHNYOo/wDBMP8A4J7apn7T%2Bx54CXP/AD76DHD/AOiwK0P%2BE4/4KF/9Gv8AwZ/8Pxq3/wAy9H/Ccf8ABQv/AKNf%2BDP/AIfjVv8A5l6wll2XT%2BKjB/8Abkf/AJE9ijxnxlh/4WZ4mPpiK/8A8uOR1H/gj9/wTW1TP2n9k3QFz/z73d3D/wCi5hWJef8ABED/AIJf3j%2Bav7MiwP2e18X6xGR%2BAu8fpXpP/Ccf8FC/%2BjX/AIM/%2BH41b/5l65fx9%2B0d%2B3b8O/FfgjwhrH7KHwkmuPHniiXQtKktvjrqhSCePStQ1MvLu8MAhPJ06ZQVDHe6DGCWXCWSZNLfDU//AACP%2BR6EfErxFirLOMVbzxFV/nORyFx/wQ2/4J6sCNN8CeJ7AdhaeO9S4/77mas29/4ISfsT3IItfEPxJtPT7P46mOP%2B%2B1avaf8AhOP%2BChf/AEa/8Gf/AA/Grf8AzL0f8Jx/wUL/AOjX/gz/AOH41b/5l6yfD%2BRv/mGh91vyaIfiHxvJ%2B/j5y/xKnP8A9LoTPn3UP%2BDfz9kG%2Bz5Xxl%2BMVvn/AJ4%2BM4Dj/vu0apP2VP8Agnd8J/2B/wDgoZ4Y/wCFXfEHxlry%2BLPgz4u%2B2/8ACXajb3DQfZdW8L7PLMMEWN32ht27d91cY5z79/wnH/BQv/o1/wCDP/h%2BNW/%2BZeqHgfwP%2B1Z4x/as8OfG743fDj4e%2BGdG8M/D3xDocMPhX4h32tXV3dalfaJcIzJcaRYpFGiaXKCwd2LSoAuMkXh8jyjCV1Wo0Ixmtmr9dP5n08jkzDjLiTNcHLC4qtGUJWuvY4aL0aa9%2BGFp1FqulRX2d02n7rRRRXqnzAUUUUAFFFFABXg//BO3wvpvhn4K%2BLZdP3ltU%2BPHxKvbovjmRvGesKenYBFH4V7xXyV%2ByV4s/bO0/wCHviiz%2BGPwD%2BGGr6Enxp%2BIv9n6jr3xd1HTbuZf%2BEz1ksZLaLQLlIiG3AATPkAHIJ2hNJtPsXGpUjCUE9JWv52d19z1PrWivGf%2BE4/4KF/9Gv8AwZ/8Pxq3/wAy9H/Ccf8ABQv/AKNf%2BDP/AIfjVv8A5l6ZB7NRXjP/AAnH/BQv/o1/4M/%2BH41b/wCZej/hOP8AgoX/ANGv/Bn/AMPxq3/zL0AezUV84/BH9o79u348fBjwh8cfCv7KHwktdL8Z%2BF9P13TbbUPjrqizwwXdtHcRpIE8MMocLIAwVmGQcEjmuo/4Tj/goX/0a/8ABn/w/Grf/MvQB7NRXjP/AAnH/BQv/o1/4M/%2BH41b/wCZej/hOP8AgoX/ANGv/Bn/AMPxq3/zL0AezUV84/G79o79u34D/Bjxf8cfFX7KHwkutL8GeF9Q13UrbT/jrqjTzQWltJcSJGH8MKpcrGQoZlGSMkDmuo/4Tj/goX/0a/8ABn/w/Grf/MvQB7NRXjP/AAnH/BQv/o1/4M/%2BH41b/wCZej/hOP8AgoX/ANGv/Bn/AMPxq3/zL0AezUV4z/wnH/BQv/o1/wCDP/h%2BNW/%2BZeuX%2BLv7R37dvwa8KWni/wAR/sofCS5t7zxRomhRx2Xx11RnE%2Bqara6ZA53eGFGxZruNnOchFYgMcKQD6Oorxn/hOP8AgoX/ANGv/Bn/AMPxq3/zL0f8Jx/wUL/6Nf8Agz/4fjVv/mXoA9morxn/AITj/goX/wBGv/Bn/wAPxq3/AMy9H/Ccf8FC/wDo1/4M/wDh%2BNW/%2BZegD2aivnHx9%2B0d%2B3b8O/FfgjwhrH7KHwkmuPHniiXQtKktvjrqhSCePStQ1MvLu8MAhPJ06ZQVDHe6DGCWXqP%2BE4/4KF/9Gv8AwZ/8Pxq3/wAy9AHs1FeM/wDCcf8ABQv/AKNf%2BDP/AIfjVv8A5l6P%2BE4/4KF/9Gv/AAZ/8Pxq3/zL0AezUV4z/wAJx/wUL/6Nf%2BDP/h%2BNW/8AmXrl9W/aO/bt0f4z6B8Drj9lD4SNqniLwvq%2Bu2dynx11TyI4NOudNt5kcnwxuDs2qQFQFIISTJUhQwB9HUV4z/wnH/BQv/o1/wCDP/h%2BNW/%2BZej/AITj/goX/wBGv/Bn/wAPxq3/AMy9AHs1FeM/8Jx/wUL/AOjX/gz/AOH41b/5l6P%2BE4/4KF/9Gv8AwZ/8Pxq3/wAy9AHs1FfOOk/tHft26x8Z9f8Agdb/ALKHwkXVPDvhfSNdvLl/jrqnkSQajc6lbwohHhjcXVtLnLAqAA8eCxLBeo/4Tj/goX/0a/8ABn/w/Grf/MvQB7NRXjP/AAnH/BQv/o1/4M/%2BH41b/wCZej/hOP8AgoX/ANGv/Bn/AMPxq3/zL0AezUV4z/wnH/BQv/o1/wCDP/h%2BNW/%2BZeuX8A/tHft2/ETxX438IaP%2Byh8JIbjwH4oi0LVZLn466oEnnk0rT9TDxbfDBJTydRhUlgp3o4xgBmAPo6ivGf8AhOP%2BChf/AEa/8Gf/AA/Grf8AzL0f8Jx/wUL/AOjX/gz/AOH41b/5l6APZq8Z/Zf/AOS3/tHf9lmsf/UK8L0f8Jx/wUL/AOjX/gz/AOH41b/5l6t/srfDn40%2BD9Y%2BKHjv46aB4X0nVPH3xCi1yz0rwn4ludWt7W1i0HR9MVXuLiys2aRpNOlcqItoWRBuY5wAet0UUUAFFFFABRRRQAUUUUAFFFFABRRRQAUUUUAFFFFABRRRQAUUUUAFFFFABXyv%2B09%2B1p8XPhh8Y/FmteAfDvg%2BTwx8H/D/AIfvfGp1rSLibVdUt9Xv5UuYLC4juI0svItrOO4zJFOLmQpGRD5fmn6orxn4z/sQ/Dj43fFI/EzXPHPirS4tRtdItfF/hrRrq1TTvFMGl3sl7YxXyy28kwWOaaXP2eWAyxyGKYyxhUAB7NRRRQAUUUUAfMfhz9pX4mQ/t/8Aij4P/EbWPD3hPw2viC00TwZFqPwi1lLrxjANAg1HEHiNrtdOaWO7udQAtBC8nl2kwCgs0i/TleV%2BLP2WoPH/AMZNI%2BKfj343%2BNdX0rw9rsetaB4AuDpkWjWOoR27wRzhobJL2XZ5kkipNdSRiR92z5EC%2BqUAFFFFAHi//BQX4u/HD9n79kfxp8evgFe%2BFI9Y8E6Fd65dQeMNFub62u7S1tpZnt0S2urZkldkRRIXKoCxKPwK8/8AHn7Wnxc8F/HjxbqfhTw74Qi%2BHnhD4x%2BEfh94ys5tIuDreq6rrsGipHqEN2lwsMccH9uaTGYpLeV5EhnxLHtQV7D%2B1j%2BzjZftafAjXv2fda%2BKvinwjpPieylsdcv/AAgunfa7mylieKa23X9pdRojq/LIiyAqNrrzni4P2AfB0/xFs/iL4q%2BOPj7XWOs6TrnibRtQl0qKx8T65piRpY6tex21hEy3EQgtMLbNBAxsbYvExjyQD3uiiigArxf9sn4u/HD4JWvgHxj8LL3wp/Y2ofEzw54e8X2PiDRbm5urm11XWbHTQbOWG6hS2kjW5lk3yJOpKIuzkmvaK8q/au/Zbf8Aaq8N6F4Xn%2BPvjfwNb6F4ksNdRvBcOjs93e2N5BeWbSnUtPvBtiuLeNwsYQNysm9TtAB5x%2Bzz%2B0r8TNb/AGqvFvwR%2BKGr%2BHvCenQ%2BKdbt/BPhKT4Razplzr1tC6Sm/t9auLv7BqDsZJpZYraAvyXYrhifpyvJdJ/ZRD/GTRfjL8R/2gPHfjWbwvd3l34T0LxCNJhsNHurm3ktZLiJbDT7aWV/s808K%2BfJKqLO%2B0AkEetUAFFFFAHh/wC3d8XPjx%2Bz98GtX%2BOvwo8Y%2BBbHT/C2i3N5e6L4s8M3t/c%2BIb3KLZ6ZZyW17B9nmuJSLdG8q6ZpZ4gsLH5W8/8Agj%2B198Z9c%2BJfgr%2B1vBnhLSPhp43%2BJ/ij4beFfDWnaXNHq%2BiX%2BgQ6tvnnuRcNbzQSN4f1NFhjt4jGrWx8yTLAen/tK/sgwftJePPBHxAm/aB8d%2BELnwDd3N7otj4Yi0aezkvZUEa3k0Gp6deI88MfmLDIApjE8pHzNkVfAf7DXw98B/GW3%2BLsPxF8XalBp2u6nr2ieENSubL%2BydK1vUY3j1DVIEitUn8%2BcT3ZZXmeFGvrkxxR%2BZwAe10UUUAFfL/7XPx4/aX%2BC3xE0/wppUPgDxro/jmHWrbRfhzF4PvpNYS1tNDuruS/uJxevFdWwuore2khFrED9vhQTGRkST6grw6b9ia4j/aP8V/tNaJ%2B1X8S9O1fxbpsOnXOlwweH57TT7OGBo4baza50mW5t4lld7rYs2153LuHB20AM/YQ/aD8b/Hv4e3l18V/H2jX3i7ThZtr/huy%2BF2r%2BEbzQHntllEFzZavdT3Dgtv8u4ASORUO0NtJr3SvN/gd%2Bzdp3wZ8T%2BJPiHrHxS8U%2BOPFXiuKxt9Y8T%2BLmsFuXtLMTfZbVItPtbW2jija5uXG2EMzXEhZmyMekUAFFFFAHxz/AMFBP24/ip%2Bxh45/tPXNF0Dxj4RfRtR1u38Ky/DnU7KW3TTdGvtSST/hIprp9Mnu/temjZYrAl0I5llA2wtI3r37NHxd%2BOerfFTxv%2Bz1%2B0dc%2BFNQ8T%2BEdJ0PWo9a8FaRc2Fjc2OqC8jSIwXNzcussVxp12pfzcSIYm2RklRW%2BOv7CXgj9pzWrq1%2BP/xb8a%2BKPBdzJcSL8MryTTYdFikmsZrJm329lHfSAR3EzBJbp0Dvu2/IgXp/2fP2ZtI%2BAd5r3iK7%2BKHizxx4j8SGzj1bxV41uLN76W2tIjFa2o%2Bx21vCsUQeVhiPezzyu7Ozk0AelUUUUAFfEf7U/wC2V%2B1n8G/jV4g%2BFHg7w34c8a6nYaLca74YCfA/xBHJooGo6ZaoYW%2B3OPE0gsdUuPO/svynhaErKIxMI6%2B3K8P179i3U/Evj0/E7Wv2ufijNrenwXkXg28KaAB4VW6mhkn%2ByRjSdk7NHAtvuvVumWJnClXdnIB1X7LHxYf4yfCODxZe/EzRvFV/DqN1ZapfaN4MvvDotriKVla1m03ULie6s54xhXjmcPn5tqhgK9GrhvgH8BfD3wA8M6no2leKdb8Qajr%2BvXGt%2BJPEniOaBr3Vb%2BYIjTyi3ihgTEcUMSpDFHGqRIAowSe5oAKKKKACiiigAooooAKKKKAKPijxDYeEvDWo%2BK9VDm10yxmu7kRLlvLjQu2B3OFNfOf7E37Sfxr8f%2BKdH8GfGzw94Msx46%2BFtl8RvDMPgzSri0GmR3lwTd6fdma4lF3NG9zbP9sQQCdpZiYI9oL/AEtd2lrf2stje26TQzRtHNFKoZXUjBUg8EEcYryH9mb9ivwF%2BzBqr6voHxB8W%2BJZbbwxY%2BGfDo8WXtrMNA0KzeR7fTbU29vCWjUyfNLOZriQRxeZM/lrgA9iooooAK4X9qDx58RfhZ%2BzR8RPid8H/Ci694t8OeBdX1TwtobWM10NR1G3s5Zba2MMDLLMJJURPLjYO27CkEg13VZ3i3RL/wAS%2BGNQ8P6X4r1HQrm9tJIbfWtIWBrqxdlIE0QuIpYi6nkCSN0yPmVhkEA8u/Yp%2BLU/xQ%2BGd9Zat8QvD%2Bs6n4d1VdOvNM0T4Yan4OfQ0FtBJFZ3Glapcz3MLhHEiu3lo8UsWxMDe/sVeefAf9nbSfgdeeJfEdz8RPEnjHxJ4v1GG88ReKfFb2Yu7ow26W8EQjsba2tooo40AVY4UyWdmLMzMfQ6ACiiigD5c/ao/ax%2BKH7OHxe8cWXxK0bwl4i%2BF9h%2Bzv4v8e22hW%2BiXCaq7aINLWe2uLmS5e3minW%2BnAQWyFQiZd8sK7f9mf4v/HzVPi54y/Z1/aWfwleeKPDHhjw94lj1XwVpNzY2Ullqz6lbrbGG5ublzLDcaRdgyiQLIjxN5cZ3LUHxj/YV8O/HT46t8ZfHnx28cy6bN4K1PwjffD2GDRf7Eu9G1Jbb7faSF9Na9Ina0gdnF0HUoQjIjMh6T9nf9l3Q/wBn2%2B1rxHP8UPFvjfxDr9rYWV/4n8bXNpJemwsUkWzsx9ktrePyojPcOCUMjvcyu7uzZoA9PooooAK%2BRPjX%2B0v%2B1t4M139oDwJb%2BFfBniy98BeH/CniT4bWOk/D/U7%2BdY9R1XUoQl5axXjy6jPAumxzqbYW5LkhV%2BVWr67rwuX9ijxDF8dPG3x/0L9tD4raVq3jfSLHTLmxsrPww1ppttZXFzPZpbCXRXk/dG8ulBmeUus5EnmFUKgHV/sqfFub4y/CkeJtR%2BJ2jeKdRtdVubHVrrR/BF/4bNncRN81rPpmo3E91aTopXckzBiGVtqqwr0muE%2BAfwD0D4A6FrNjp/i3XPEeq%2BJvEEuueJ/E3iSW3a91W/khhg82QW0MMEYWC3t4VSKKNFSFAFzknu6ACiiigD42/aW/a7/aW/Z4%2BM0Hw21lPhn41vtbggm8Iw6d4WvbSXwXeal4h0zw9pE2pyvfTC6inbV5wWiWzkcWN0sYZfMMXuP7Kvxf%2BJHxGHj/AOH3xiOiT%2BKvhp48bw1rOq%2BGtOms7DU/M0vTtWt7iG3mnnkt82uqW6PG00uJI5MMQRjhbb/gmr4Sa6%2BIb%2BIf2l/idrNv8SdeOuaxb6kdC8yz1KK4hn0%2B5trqLS0ulNg9vbi0jeaSKJYUDI/OfWPgH8BdD%2BAfh7VtNsvF%2BueJNW8Ra9NrXifxR4le2N/q99JHFD50wtYIIF2QQW8CJFFGixwRqF4JIB3VFFFADLn7T9mk%2Bx7PO2HyvNzt3Y4zjnGa%2BIPit%2B1z%2B2n8NPiJrnw2t7bwH4z17wxe%2BGrfVvHXgj4K6/q0fhy31Zrx72wl0qz1Ke7uZo4bKxuiYp0/d3ULSwIDE0n29dwyXFrLbw3UkDyRsqzxBS8ZIwGXcCuR1GQR6g189/Bj9gLxB8BPhtcfDT4d/t1fGKKO61Z9Tm1m8svCc%2BoS3cryyXM80z6EftMk7y7pJJxI%2BY02FAMEA9Z%2BAnxDsvit8HfD/wAQrD4gaN4qTU9PEj6/4f0mawtLuQErIUtZ5ppbYq6sjQySO8bKysdykDr65L4F/Bfwl%2Bz78L9O%2BFPgq5v7iysJbq4mvtVuRNdX13dXMt1dXUzhVDSzXE80r7VVd0h2qq4UdbQAVR8Tw%2BJLnw3qFv4N1OxstXkspV0u81Owe6toLgoRHJLDHLE00atgsiyRlgCA6k7herN8Y6Df%2BKPC1/4d0vxbqWg3N5avFBrWjiA3Vi5HE0QuIpYi6nkCSN0OPmVhkUAfD3w3/bs/a1%2BMHxT1v4JfCzTfh8njPTbXXb6Txn4r%2BF2taGuqaZpFrosqWMuiXl8moafK934h2JNPM8flQyXCQus6A/Y3wC%2BLWm/Hz4E%2BCvjro2my2dn418Jabr1pZzPueCK8tY7hY2IAyVEgBPqK8W1f/gmR4H1rXL74i3f7SnxTT4gasl5a618Sba90iHVr/TLq2tbabTCiaaLOG2KWVow8i2ilWSBZVlDlmP0H4L8H%2BGvh54O0nwB4M0mLT9H0PTINP0mwhzstraGNY4o1zzhUVVH0oA06KKKAOX%2BNOo%2BONG%2BFuta38OfENjperWFmbqG%2B1Dwfe%2BIESOMh5QNOsZ4Lm8kaJXVIoZA5dlwrn5G%2BLfhL/wAFEfj94k8aaHqfje48I%2BBPBmpTzr4g8cXnwM8RTW2sX8Ov3WkIlzKt9GnhmeS1tLX9xqjSSwPKsb52BK%2B2/iZ4M13x74Sm8OeG/ilr/g28kljeLX/DMVi93BtYEqq39tcwMGAKkPE3BOMHBHit1/wTm8Kah4PuPhtq37SHxNu/DGuahNf%2BPNAmuNHEXjC7nvGuria%2BlXTRcReaWWFo7OW1iEMSRqijduAPomiiigAooooAKKKKACiiigAooooAKKKKACiiigAooooAKKKKACiiigAooooAKKKKACiiigAooooAKKKKACiiigAooooAKKKKACiiigAooooAKKKKACiiigAooooAKKKKACiiigAooooAKKKKACiiigAooooAKKKKACiiigAooooAKKKKACiiigAooooAKKKKACiiigAooooAKKKKACiiigAooooAKKKKACiiigAooooAKKKKACiiigAooooAKKKKACiiigAooooAKKKKACiiigAooooAKKKKACiiigAooooAKKKKACiiigAooooAKKKKACiiigD/2Q%3D%3D\">"
      ]
     },
     "metadata": {},
     "output_type": "display_data"
    }
   ],
   "source": [
    "s.run(tf.global_variables_initializer())\n",
    "\n",
    "BATCH_SIZE = 512\n",
    "EPOCHS = 40\n",
    "\n",
    "# for logging the progress right here in Jupyter (for those who don't have TensorBoard)\n",
    "simpleTrainingCurves = matplotlib_utils.SimpleTrainingCurves(\"cross-entropy\", \"accuracy\")\n",
    "\n",
    "for epoch in range(EPOCHS):  # we finish an epoch when we've looked at all training samples\n",
    "    batch_losses = []\n",
    "    for batch_start in range(0, X_train_flat.shape[0], BATCH_SIZE):  # data is already shuffled\n",
    "        _, batch_loss = s.run([step, loss], {input_X: X_train_flat[batch_start:batch_start+BATCH_SIZE], \n",
    "                                             input_y: y_train_oh[batch_start:batch_start+BATCH_SIZE]})\n",
    "        # collect batch losses, this is almosbt free as we need a forward pass for backprop anyway\n",
    "        batch_losses.append(batch_loss)\n",
    "\n",
    "    train_loss = np.mean(batch_losses)\n",
    "    val_loss = s.run(loss, {input_X: X_val_flat, input_y: y_val_oh})  # this part is usually small\n",
    "    train_accuracy = accuracy_score(y_train, s.run(classes, {input_X: X_train_flat}))  # this is slow and usually skipped\n",
    "    valid_accuracy = accuracy_score(y_val, s.run(classes, {input_X: X_val_flat}))  \n",
    "    simpleTrainingCurves.add(train_loss, val_loss, train_accuracy, valid_accuracy)"
   ]
  },
  {
   "cell_type": "code",
   "execution_count": null,
   "metadata": {
    "collapsed": true
   },
   "outputs": [],
   "source": [
    "#1.4719 1.4853\n",
    "#0.989 0.976"
   ]
  },
  {
   "cell_type": "markdown",
   "metadata": {},
   "source": [
    "# Submit a linear model"
   ]
  },
  {
   "cell_type": "code",
   "execution_count": 33,
   "metadata": {
    "collapsed": true
   },
   "outputs": [],
   "source": [
    "## GRADED PART, DO NOT CHANGE!\n",
    "# Testing shapes \n",
    "grader.set_answer(\"9XaAS\", grading_utils.get_tensors_shapes_string([W, b, input_X, input_y, logits, probas, classes]))\n",
    "# Validation loss\n",
    "grader.set_answer(\"vmogZ\", s.run(loss, {input_X: X_val_flat, input_y: y_val_oh}))\n",
    "# Validation accuracy\n",
    "grader.set_answer(\"RMv95\", accuracy_score(y_val, s.run(classes, {input_X: X_val_flat})))"
   ]
  },
  {
   "cell_type": "code",
   "execution_count": 34,
   "metadata": {},
   "outputs": [
    {
     "name": "stdout",
     "output_type": "stream",
     "text": [
      "Submitted to Coursera platform. See results on assignment page!\n"
     ]
    }
   ],
   "source": [
    "# you can make submission with answers so far to check yourself at this stage\n",
    "grader.submit(COURSERA_EMAIL, COURSERA_TOKEN)"
   ]
  },
  {
   "cell_type": "markdown",
   "metadata": {},
   "source": [
    "# MLP with hidden layers"
   ]
  },
  {
   "cell_type": "markdown",
   "metadata": {},
   "source": [
    "Previously we've coded a dense layer with matrix multiplication by hand. \n",
    "But this is not convenient, you have to create a lot of variables and your code becomes a mess. \n",
    "In TensorFlow there's an easier way to make a dense layer:\n",
    "```python\n",
    "hidden1 = tf.layers.dense(inputs, 256, activation=tf.nn.sigmoid)\n",
    "```\n",
    "\n",
    "That will create all the necessary variables automatically.\n",
    "Here you can also choose an activation function (remember that we need it for a hidden layer!).\n",
    "\n",
    "Now define the MLP with 2 hidden layers and restart training with the cell above.\n",
    "\n",
    "You're aiming for ~0.97 validation accuracy here."
   ]
  },
  {
   "cell_type": "code",
   "execution_count": 30,
   "metadata": {
    "collapsed": true
   },
   "outputs": [],
   "source": [
    "# write the code here to get a new `step` operation and then run the cell with training loop above.\n",
    "# name your variables in the same way (e.g. logits, probas, classes, etc) for safety.\n",
    "\n",
    "# run this again if you remake your graph\n",
    "s = reset_tf_session()"
   ]
  },
  {
   "cell_type": "code",
   "execution_count": 31,
   "metadata": {
    "collapsed": true
   },
   "outputs": [],
   "source": [
    "# Placeholders for the input data\n",
    "input_X = tf.placeholder(tf.float32, shape=(None, 784)) # tf.placeholder(...) for flat X with shape[0] = None for any batch size\n",
    "input_y = tf.placeholder(tf.float32, shape=(None, 10)) # tf.placeholder(...) for one-hot encoded true labels\n",
    "\n",
    "hidden1 = tf.layers.dense(input_X, 256, activation=tf.nn.sigmoid)\n",
    "hidden2 = tf.layers.dense(hidden1, 256, activation=tf.nn.sigmoid)\n",
    "logits  = tf.layers.dense(hidden2, 10, activation=tf.nn.sigmoid)\n",
    "\n",
    "probas  = tf.nn.softmax(logits)\n",
    "classes = tf.argmax(probas, axis=1)\n",
    "\n",
    "loss    = tf.reduce_mean(tf.nn.softmax_cross_entropy_with_logits(labels=input_y, logits=logits))\n",
    "optimizer = tf.train.AdamOptimizer(learning_rate=0.0005)\n",
    "step = optimizer.minimize(loss)"
   ]
  },
  {
   "cell_type": "markdown",
   "metadata": {},
   "source": [
    "# Submit the MLP with 2 hidden layers\n",
    "Run these cells after training the MLP with 2 hidden layers"
   ]
  },
  {
   "cell_type": "code",
   "execution_count": 35,
   "metadata": {
    "collapsed": true
   },
   "outputs": [],
   "source": [
    "## GRADED PART, DO NOT CHANGE!\n",
    "# Validation loss for MLP\n",
    "grader.set_answer(\"i8bgs\", s.run(loss, {input_X: X_val_flat, input_y: y_val_oh}))\n",
    "# Validation accuracy for MLP\n",
    "grader.set_answer(\"rE763\", accuracy_score(y_val, s.run(classes, {input_X: X_val_flat})))"
   ]
  },
  {
   "cell_type": "code",
   "execution_count": 36,
   "metadata": {},
   "outputs": [
    {
     "name": "stdout",
     "output_type": "stream",
     "text": [
      "Submitted to Coursera platform. See results on assignment page!\n"
     ]
    }
   ],
   "source": [
    "# you can make submission with answers so far to check yourself at this stage\n",
    "grader.submit(COURSERA_EMAIL, COURSERA_TOKEN)"
   ]
  }
 ],
 "metadata": {
  "kernelspec": {
   "display_name": "Python 3",
   "language": "python",
   "name": "python3"
  },
  "language_info": {
   "codemirror_mode": {
    "name": "ipython",
    "version": 3
   },
   "file_extension": ".py",
   "mimetype": "text/x-python",
   "name": "python",
   "nbconvert_exporter": "python",
   "pygments_lexer": "ipython3",
   "version": "3.6.2"
  }
 },
 "nbformat": 4,
 "nbformat_minor": 1
}
